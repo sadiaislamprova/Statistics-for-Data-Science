{
  "nbformat": 4,
  "nbformat_minor": 0,
  "metadata": {
    "colab": {
      "provenance": []
    },
    "kernelspec": {
      "name": "python3",
      "display_name": "Python 3"
    },
    "language_info": {
      "name": "python"
    }
  },
  "cells": [
    {
      "cell_type": "code",
      "execution_count": null,
      "metadata": {
        "colab": {
          "base_uri": "https://localhost:8080/"
        },
        "id": "XOB-sIjqSHvY",
        "outputId": "8f5c3b23-1c66-40ab-9275-6ddcd4165319"
      },
      "outputs": [
        {
          "output_type": "stream",
          "name": "stdout",
          "text": [
            "Inverse Matrix:\n",
            "[0.30434782608695654, 0.17391304347826086, -0.2608695652173913]\n",
            "[-0.21739130434782608, 0.30434782608695654, 0.043478260869565216]\n",
            "[-0.13043478260869565, -1.2173913043478262, 0.8260869565217391]\n"
          ]
        }
      ],
      "source": [
        "def inverse(matrix):\n",
        "    det = (matrix[0][0] * matrix[1][1] * matrix[2][2] +\n",
        "           matrix[0][1] * matrix[1][2] * matrix[2][0] +\n",
        "           matrix[0][2] * matrix[1][0] * matrix[2][1]) - (\n",
        "          matrix[0][0] * matrix[1][2] * matrix[2][1] +\n",
        "          matrix[0][1] * matrix[1][0] * matrix[2][2] +\n",
        "          matrix[0][2] * matrix[1][1] * matrix[2][0])\n",
        "\n",
        "    if det == 0:\n",
        "        return None\n",
        "\n",
        "    inverse = [[0, 0, 0], [0, 0, 0], [0, 0, 0]]\n",
        "\n",
        "    inverse[0][0] = (matrix[1][1] * matrix[2][2] - matrix[1][2] * matrix[2][1]) / det\n",
        "    inverse[0][1] = (matrix[0][2] * matrix[2][1] - matrix[0][1] * matrix[2][2]) / det\n",
        "    inverse[0][2] = (matrix[0][1] * matrix[1][2] - matrix[0][2] * matrix[1][1]) / det\n",
        "\n",
        "    inverse[1][0] = (matrix[1][2] * matrix[2][0] - matrix[1][0] * matrix[2][2]) / det\n",
        "    inverse[1][1] = (matrix[0][0] * matrix[2][2] - matrix[0][2] * matrix[2][0]) / det\n",
        "    inverse[1][2] = (matrix[0][2] * matrix[1][0] - matrix[0][0] * matrix[1][2]) / det\n",
        "\n",
        "    inverse[2][0] = (matrix[1][0] * matrix[2][1] - matrix[1][1] * matrix[2][0]) / det\n",
        "    inverse[2][1] = (matrix[0][1] * matrix[2][0] - matrix[0][0] * matrix[2][1]) / det\n",
        "    inverse[2][2] = (matrix[0][0] * matrix[1][1] - matrix[0][1] * matrix[1][0]) / det\n",
        "\n",
        "    return inverse\n",
        "\n",
        "\n",
        "matrix = [[7, 4, 2], [4, 5, 1], [7, 8, 3]]\n",
        "\n",
        "inverse_matrix = inverse(matrix)\n",
        "if inverse_matrix is not None:\n",
        "    print(\"Inverse Matrix:\")\n",
        "    for row in inverse_matrix:\n",
        "        print(row)\n",
        "else:\n",
        "    print(\"The matrix is not invertible.\")\n"
      ]
    },
    {
      "cell_type": "code",
      "source": [],
      "metadata": {
        "id": "m90QqPksTbYT"
      },
      "execution_count": null,
      "outputs": []
    }
  ]
}