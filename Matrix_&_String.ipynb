{
  "nbformat": 4,
  "nbformat_minor": 0,
  "metadata": {
    "colab": {
      "provenance": []
    },
    "kernelspec": {
      "name": "python3",
      "display_name": "Python 3"
    },
    "language_info": {
      "name": "python"
    }
  },
  "cells": [
    {
      "cell_type": "code",
      "execution_count": null,
      "metadata": {
        "id": "jRmdwFzV9PNu"
      },
      "outputs": [],
      "source": [
        "sqr = [num ** 2 for num in range(2, 11, 2)]\n",
        "print(sqr)"
      ]
    },
    {
      "cell_type": "code",
      "source": [
        "\n",
        "def convertvowels(string):\n",
        "    vowels = 'aeiou'\n",
        "    convertedstring = ''.join([char.upper() if char.lower() in vowels else char for char in string])\n",
        "    return converted_string\n",
        "\n",
        "\n",
        "str = input(\"Enter a String: \")\n",
        "convertedtring = convertvowels(str)\n",
        "print (convertedstring)"
      ],
      "metadata": {
        "id": "XVcRx6K49f9u"
      },
      "execution_count": null,
      "outputs": []
    },
    {
      "cell_type": "code",
      "source": [
        "\n",
        "myList = [i for i in range(10) if i%2 != 0]\n",
        "myList"
      ],
      "metadata": {
        "colab": {
          "base_uri": "https://localhost:8080/"
        },
        "id": "VaLBzI1G9jdE",
        "outputId": "c71e11ef-e9eb-4405-c2ed-216178442d1c"
      },
      "execution_count": null,
      "outputs": [
        {
          "output_type": "execute_result",
          "data": {
            "text/plain": [
              "[1, 3, 5, 7, 9]"
            ]
          },
          "metadata": {},
          "execution_count": 3
        }
      ]
    },
    {
      "cell_type": "code",
      "source": [
        "\n",
        "str = input(\"Enter a String: \")\n",
        "myList1 = []\n",
        "for ch in str:\n",
        "  myList1.append(ch)\n",
        "myList1"
      ],
      "metadata": {
        "colab": {
          "base_uri": "https://localhost:8080/"
        },
        "id": "X8u5BFBN9oi5",
        "outputId": "f200ff05-c2ba-41a4-ce9f-35a366cd8d29"
      },
      "execution_count": null,
      "outputs": [
        {
          "name": "stdout",
          "output_type": "stream",
          "text": [
            "Enter a String: flower\n"
          ]
        },
        {
          "output_type": "execute_result",
          "data": {
            "text/plain": [
              "['f', 'l', 'o', 'w', 'e', 'r']"
            ]
          },
          "metadata": {},
          "execution_count": 4
        }
      ]
    },
    {
      "cell_type": "code",
      "source": [
        "\n",
        "myList2 = [ myList1[i] for i in range(-1, -1*(len(myList1)+1), -1)]\n",
        "myList2"
      ],
      "metadata": {
        "colab": {
          "base_uri": "https://localhost:8080/"
        },
        "id": "n0Oc4Za79ttM",
        "outputId": "9ce8297a-5f4e-4f55-829e-2ea8b52ace88"
      },
      "execution_count": null,
      "outputs": [
        {
          "output_type": "execute_result",
          "data": {
            "text/plain": [
              "['r', 'e', 'w', 'o', 'l', 'f']"
            ]
          },
          "metadata": {},
          "execution_count": 5
        }
      ]
    },
    {
      "cell_type": "code",
      "source": [
        "def flatten_matrix(matrix):\n",
        "    return [element for sublist in matrix for element in sublist]\n",
        "\n",
        "\n",
        "matrix = [[1, 2, 3], [4, 5, 6], [7, 8, 9]]\n",
        "result = flatten_matrix(matrix)\n",
        "print(result)"
      ],
      "metadata": {
        "colab": {
          "base_uri": "https://localhost:8080/"
        },
        "id": "RBdWBRYT9x-N",
        "outputId": "58a4038e-18c3-4988-cdf3-95ca08905586"
      },
      "execution_count": null,
      "outputs": [
        {
          "output_type": "stream",
          "name": "stdout",
          "text": [
            "[1, 2, 3, 4, 5, 6, 7, 8, 9]\n"
          ]
        }
      ]
    }
  ]
}