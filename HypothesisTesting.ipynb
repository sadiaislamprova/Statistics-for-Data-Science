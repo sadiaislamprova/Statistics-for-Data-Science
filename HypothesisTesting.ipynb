{
  "nbformat": 4,
  "nbformat_minor": 0,
  "metadata": {
    "colab": {
      "provenance": []
    },
    "kernelspec": {
      "name": "python3",
      "display_name": "Python 3"
    },
    "language_info": {
      "name": "python"
    }
  },
  "cells": [
    {
      "cell_type": "code",
      "execution_count": null,
      "metadata": {
        "colab": {
          "base_uri": "https://localhost:8080/"
        },
        "id": "waUvr7DIGTM7",
        "outputId": "7b7ced80-0168-431b-c97b-8c7264037b0d"
      },
      "outputs": [
        {
          "output_type": "stream",
          "name": "stdout",
          "text": [
            "[45, 89, 23, 46, 12, 69, 45, 24, 34, 67]\n",
            "Mean:  45.4\n",
            "Std. Dev:  22.650386310171402\n",
            "t-test value is:  2.0397003109502543\n",
            "P-value is:  0.07179988272763561\n",
            "We can accept the null hypothesis\n"
          ]
        }
      ],
      "source": [
        "# Python program to implement T-Test on a sample of ages\n",
        "\n",
        "# Importing the required libraries\n",
        "from scipy.stats import ttest_1samp\n",
        "import numpy as np\n",
        "\n",
        "# Creating a sample of ages\n",
        "ages = [45, 89, 23, 46, 12, 69, 45, 24, 34, 67]\n",
        "print(ages)\n",
        "\n",
        "# Calculating the mean of the sample\n",
        "mean = np.mean(ages)\n",
        "print(\"Mean: \", mean)\n",
        "\n",
        "stddev = np.std(ages)\n",
        "print(\"Std. Dev: \", stddev)\n",
        "\n",
        "\n",
        "# Performing the T-Test\n",
        "t_test, p_val = ttest_1samp(ages, 30)\n",
        "\n",
        "print(\"t-test value is: \", t_test)\n",
        "\n",
        "print(\"P-value is: \", p_val)\n",
        "\n",
        "# taking the threshold value as 0.05 or 5%\n",
        "if p_val < 0.05:\n",
        "    print(\" We can reject the null hypothesis\")\n",
        "else:\n",
        "    print(\"We can accept the null hypothesis\")"
      ]
    },
    {
      "cell_type": "code",
      "source": [
        "# Python program to implement Independent T-Test on the two independent samples\n",
        "\n",
        "# Importing the required libraries\n",
        "from scipy.stats import ttest_ind\n",
        "import numpy as np\n",
        "\n",
        "# Creating the data groups\n",
        "data_group1 = np.array([12, 18, 12, 13, 15, 1, 7,\n",
        "                        20, 21, 25, 19, 31, 21, 17,\n",
        "                        17, 15, 19, 15, 12, 15])\n",
        "data_group2 = np.array([23, 22, 24, 25, 21, 26, 21,\n",
        "                        21, 25, 30, 24, 21, 23, 19,\n",
        "                        14, 18, 14, 12, 19, 15])\n",
        "\n",
        "# Calculating the mean of the two data groups\n",
        "mean1 = np.mean(data_group1)\n",
        "mean2 = np.mean(data_group2)\n",
        "\n",
        "# Print mean values\n",
        "print(\"Data group 1 mean value:\", mean1)\n",
        "print(\"Data group 2 mean value:\", mean2)\n",
        "\n",
        "# Calculating standard deviation\n",
        "std1 = np.std(data_group1)\n",
        "std2 = np.std(data_group2)\n",
        "\n",
        "# Printing standard deviation values\n",
        "print(\"Data group 1 std value:\", std1)\n",
        "print(\"Data group 2 std value:\", std2)\n",
        "\n",
        "# Implementing the t-test\n",
        "t_test,p_val = ttest_ind(data_group1, data_group2)\n",
        "print(\"The t-test is: \", t_test)\n",
        "print(\"The P-value is: \", p_val)\n",
        "\n",
        "# taking the threshold value as 0.05 or 5%\n",
        "if p_val < 0.05:\n",
        "    print(\"We can reject the null hypothesis\")\n",
        "else:\n",
        "    print(\"We can accept the null hypothesis\")"
      ],
      "metadata": {
        "colab": {
          "base_uri": "https://localhost:8080/"
        },
        "id": "hmIXvHr_Gky2",
        "outputId": "9747a77f-2b89-4074-87eb-9e5aeefc7392"
      },
      "execution_count": null,
      "outputs": [
        {
          "output_type": "stream",
          "name": "stdout",
          "text": [
            "Data group 1 mean value: 16.25\n",
            "Data group 2 mean value: 20.85\n",
            "Data group 1 std value: 6.171507109288622\n",
            "Data group 2 std value: 4.452808102759426\n",
            "The t-test is:  -2.6347481110277466\n",
            "The P-value is:  0.012117171124028792\n",
            "We can reject the null hypothesis\n"
          ]
        }
      ]
    },
    {
      "cell_type": "code",
      "source": [
        "# Python program to implement Paired Sample T-Test on the two dependent samples\n",
        "\n",
        "# Importing the required libraries\n",
        "import pandas as pd\n",
        "from scipy import stats\n",
        "\n",
        "# Creating two samples\n",
        "sample1 = [29, 30, 33, 41, 38, 36,\n",
        "       35, 31, 29, 30]\n",
        "sample2 = [31, 32, 33, 39, 30, 33,\n",
        "        30, 28, 29, 31]\n",
        "\n",
        "# Performing paired sample t-test\n",
        "t_test, p_val = stats.ttest_rel(sample1, sample2)\n",
        "print(\"The P-value of the test is: \", p_val)\n",
        "\n",
        "# taking the threshold value as 0.05 or 5%\n",
        "if p_val < 0.05:\n",
        "    print(\"We can reject the null hypothesis\")\n",
        "else:\n",
        "    print(\"We can accept the null hypothesis\")"
      ],
      "metadata": {
        "colab": {
          "base_uri": "https://localhost:8080/"
        },
        "id": "Q1gIUhgOGqGV",
        "outputId": "4166e4ef-c67d-4f01-9212-d97b6b97ccb6"
      },
      "execution_count": null,
      "outputs": [
        {
          "output_type": "stream",
          "name": "stdout",
          "text": [
            "The P-value of the test is:  0.15266056244408904\n",
            "We can accept the null hypothesis\n"
          ]
        }
      ]
    },
    {
      "cell_type": "code",
      "source": [
        "# Python program to implement One Sample Z-Test\n",
        "\n",
        "# Importing the required libraries\n",
        "import pandas as pd\n",
        "from scipy import stats\n",
        "from statsmodels.stats import weightstats as stests\n",
        "\n",
        "# Creating a dataset\n",
        "data = np.array([89, 93, 95, 93, 97, 98, 96, 99, 93, 97,\n",
        "        110, 104, 119, 105, 104, 110, 110, 112, 115, 114])\n",
        "\n",
        "# Calculating Mean\n",
        "print(\"Mean value: \", np.mean(data))\n",
        "\n",
        "# Performing the z-test\n",
        "z_test ,p_val = stests.ztest(data, x2 = None, value = 160)\n",
        "print(p_val)\n",
        "\n",
        "# taking the threshold value as 0.05 or 5%\n",
        "if p_val < 0.05:\n",
        "    print(\"We can reject the null hypothesis\")\n",
        "else:\n",
        "    print(\"We can accept the null hypothesis\")"
      ],
      "metadata": {
        "colab": {
          "base_uri": "https://localhost:8080/"
        },
        "id": "wqkgCMMCHMks",
        "outputId": "0612dac1-ee30-4249-c28f-e5bdccb022de"
      },
      "execution_count": null,
      "outputs": [
        {
          "output_type": "stream",
          "name": "stdout",
          "text": [
            "Mean value:  102.65\n",
            "2.417334226169332e-186\n",
            "We can reject the null hypothesis\n"
          ]
        }
      ]
    },
    {
      "cell_type": "code",
      "source": [
        "# Python program to implement Two Sample Z-Test\n",
        "\n",
        "# Importing the required libraries\n",
        "import pandas as pd\n",
        "from scipy import stats\n",
        "from statsmodels.stats import weightstats as stests\n",
        "\n",
        "# Creating a dataset\n",
        "data1 = np.array([83, 85, 86, 90, 90, 93, 93, 95, 97, 97,\n",
        "         106, 108, 106, 108, 111, 113, 113, 112, 116, 111])\n",
        "\n",
        "data2 = np.array([92, 92, 90, 93, 93, 97, 94, 98, 109, 108,\n",
        "         110, 117, 110, 115, 114, 114, 130, 130, 149, 131])\n",
        "\n",
        "# Calculating mean and standard deviation\n",
        "print(\"Mean of Data1: \", np.mean(data1))\n",
        "print(\"Mean of Data2: \", np.mean(data2))\n",
        "print(\"Std Dev of Data1: \", np.std(data1))\n",
        "print(\"Std Dev of Data2: \", np.std(data2))\n",
        "\n",
        "# Implementing the two-sample z-test\n",
        "z_test ,p_val = stests.ztest(data1, x2 = data2, value = 0, alternative = 'two-sided')\n",
        "print(p_val)\n",
        "\n",
        "# taking the threshold value as 0.05 or 5%\n",
        "if p_val < 0.05:\n",
        "    print(\"We can reject the null hypothesis\")\n",
        "else:\n",
        "    print(\"We can accept the null hypothesis\")"
      ],
      "metadata": {
        "colab": {
          "base_uri": "https://localhost:8080/"
        },
        "id": "HUwUUIQCHdB1",
        "outputId": "ee1f19dd-7319-48c2-854d-eb5b3f3ecf64"
      },
      "execution_count": null,
      "outputs": [
        {
          "output_type": "stream",
          "name": "stdout",
          "text": [
            "Mean of Data1:  100.65\n",
            "Mean of Data2:  109.3\n",
            "Std Dev of Data1:  10.541702898488461\n",
            "Std Dev of Data2:  15.903144343179434\n",
            "0.04813782199434202\n",
            "We can reject the null hypothesis\n"
          ]
        }
      ]
    },
    {
      "cell_type": "code",
      "source": [
        "# Python program to implement One-Way f-test\n",
        "\n",
        "# Importing the required libraries\n",
        "import scipy.stats\n",
        "\n",
        "# Creating sample data\n",
        "data1 = [2, 3, 7, 2, 6]\n",
        "data2 = [10, 8, 7, 5, 10]\n",
        "data3 = [10, 13, 14, 13, 15]\n",
        "\n",
        "\n",
        "# Performing the F-Test\n",
        "f_test, p_val = scipy.stats.f_oneway(data1, data2, data3)\n",
        "\n",
        "print(\"f-test value is: \", f_test)\n",
        "print(\"p-value is: \", p_val)\n",
        "\n",
        "# taking the threshold value as 0.05 or 5%\n",
        "if p_val < 0.05:\n",
        "    print(\" We can reject the null hypothesis\")\n",
        "else:\n",
        "    print(\"We can accept the null hypothesis\")"
      ],
      "metadata": {
        "colab": {
          "base_uri": "https://localhost:8080/"
        },
        "id": "WDzxsVKfIoam",
        "outputId": "9357207e-e81f-47b5-e47f-ed7e4bd5417d"
      },
      "execution_count": null,
      "outputs": [
        {
          "output_type": "stream",
          "name": "stdout",
          "text": [
            "f-test value is:  22.59259259259259\n",
            "p-value is:  8.538592454274676e-05\n",
            " We can reject the null hypothesis\n"
          ]
        }
      ]
    },
    {
      "cell_type": "code",
      "source": [
        "import pandas as pd"
      ],
      "metadata": {
        "id": "FZ9aZr4nV5N7"
      },
      "execution_count": null,
      "outputs": []
    },
    {
      "cell_type": "code",
      "source": [
        "df = pd.read_csv('marketing_campaign1.csv')\n"
      ],
      "metadata": {
        "id": "oAp0SrzjWBNk"
      },
      "execution_count": null,
      "outputs": []
    },
    {
      "cell_type": "code",
      "source": [
        "df.head()"
      ],
      "metadata": {
        "colab": {
          "base_uri": "https://localhost:8080/",
          "height": 299
        },
        "id": "rS0VS_QOWFrT",
        "outputId": "b5494303-4047-4172-c11d-b8d87a0e97e7"
      },
      "execution_count": null,
      "outputs": [
        {
          "output_type": "execute_result",
          "data": {
            "text/plain": [
              "     ID  Year_Birth   Education Marital_Status   Income  Kidhome  Teenhome  \\\n",
              "0  5524        1957  Graduation         Single  58138.0        0         0   \n",
              "1  2174        1954  Graduation         Single  46344.0        1         1   \n",
              "2  4141        1965  Graduation       Together  71613.0        0         0   \n",
              "3  6182        1984  Graduation       Together  26646.0        1         0   \n",
              "4  5324        1981         PhD        Married  58293.0        1         0   \n",
              "\n",
              "  Dt_Customer  Recency  MntWines  ...  NumWebVisitsMonth  AcceptedCmp3  \\\n",
              "0  04-09-2012       58       635  ...                  7             0   \n",
              "1  08-03-2014       38        11  ...                  5             0   \n",
              "2  21-08-2013       26       426  ...                  4             0   \n",
              "3  10-02-2014       26        11  ...                  6             0   \n",
              "4  19-01-2014       94       173  ...                  5             0   \n",
              "\n",
              "   AcceptedCmp4  AcceptedCmp5  AcceptedCmp1  AcceptedCmp2  Complain  \\\n",
              "0             0             0             0             0         0   \n",
              "1             0             0             0             0         0   \n",
              "2             0             0             0             0         0   \n",
              "3             0             0             0             0         0   \n",
              "4             0             0             0             0         0   \n",
              "\n",
              "   Z_CostContact  Z_Revenue  Response  \n",
              "0              3         11         1  \n",
              "1              3         11         0  \n",
              "2              3         11         0  \n",
              "3              3         11         0  \n",
              "4              3         11         0  \n",
              "\n",
              "[5 rows x 29 columns]"
            ],
            "text/html": [
              "\n",
              "\n",
              "  <div id=\"df-c15e8db7-6e09-482f-bc2b-9592fca0e44d\">\n",
              "    <div class=\"colab-df-container\">\n",
              "      <div>\n",
              "<style scoped>\n",
              "    .dataframe tbody tr th:only-of-type {\n",
              "        vertical-align: middle;\n",
              "    }\n",
              "\n",
              "    .dataframe tbody tr th {\n",
              "        vertical-align: top;\n",
              "    }\n",
              "\n",
              "    .dataframe thead th {\n",
              "        text-align: right;\n",
              "    }\n",
              "</style>\n",
              "<table border=\"1\" class=\"dataframe\">\n",
              "  <thead>\n",
              "    <tr style=\"text-align: right;\">\n",
              "      <th></th>\n",
              "      <th>ID</th>\n",
              "      <th>Year_Birth</th>\n",
              "      <th>Education</th>\n",
              "      <th>Marital_Status</th>\n",
              "      <th>Income</th>\n",
              "      <th>Kidhome</th>\n",
              "      <th>Teenhome</th>\n",
              "      <th>Dt_Customer</th>\n",
              "      <th>Recency</th>\n",
              "      <th>MntWines</th>\n",
              "      <th>...</th>\n",
              "      <th>NumWebVisitsMonth</th>\n",
              "      <th>AcceptedCmp3</th>\n",
              "      <th>AcceptedCmp4</th>\n",
              "      <th>AcceptedCmp5</th>\n",
              "      <th>AcceptedCmp1</th>\n",
              "      <th>AcceptedCmp2</th>\n",
              "      <th>Complain</th>\n",
              "      <th>Z_CostContact</th>\n",
              "      <th>Z_Revenue</th>\n",
              "      <th>Response</th>\n",
              "    </tr>\n",
              "  </thead>\n",
              "  <tbody>\n",
              "    <tr>\n",
              "      <th>0</th>\n",
              "      <td>5524</td>\n",
              "      <td>1957</td>\n",
              "      <td>Graduation</td>\n",
              "      <td>Single</td>\n",
              "      <td>58138.0</td>\n",
              "      <td>0</td>\n",
              "      <td>0</td>\n",
              "      <td>04-09-2012</td>\n",
              "      <td>58</td>\n",
              "      <td>635</td>\n",
              "      <td>...</td>\n",
              "      <td>7</td>\n",
              "      <td>0</td>\n",
              "      <td>0</td>\n",
              "      <td>0</td>\n",
              "      <td>0</td>\n",
              "      <td>0</td>\n",
              "      <td>0</td>\n",
              "      <td>3</td>\n",
              "      <td>11</td>\n",
              "      <td>1</td>\n",
              "    </tr>\n",
              "    <tr>\n",
              "      <th>1</th>\n",
              "      <td>2174</td>\n",
              "      <td>1954</td>\n",
              "      <td>Graduation</td>\n",
              "      <td>Single</td>\n",
              "      <td>46344.0</td>\n",
              "      <td>1</td>\n",
              "      <td>1</td>\n",
              "      <td>08-03-2014</td>\n",
              "      <td>38</td>\n",
              "      <td>11</td>\n",
              "      <td>...</td>\n",
              "      <td>5</td>\n",
              "      <td>0</td>\n",
              "      <td>0</td>\n",
              "      <td>0</td>\n",
              "      <td>0</td>\n",
              "      <td>0</td>\n",
              "      <td>0</td>\n",
              "      <td>3</td>\n",
              "      <td>11</td>\n",
              "      <td>0</td>\n",
              "    </tr>\n",
              "    <tr>\n",
              "      <th>2</th>\n",
              "      <td>4141</td>\n",
              "      <td>1965</td>\n",
              "      <td>Graduation</td>\n",
              "      <td>Together</td>\n",
              "      <td>71613.0</td>\n",
              "      <td>0</td>\n",
              "      <td>0</td>\n",
              "      <td>21-08-2013</td>\n",
              "      <td>26</td>\n",
              "      <td>426</td>\n",
              "      <td>...</td>\n",
              "      <td>4</td>\n",
              "      <td>0</td>\n",
              "      <td>0</td>\n",
              "      <td>0</td>\n",
              "      <td>0</td>\n",
              "      <td>0</td>\n",
              "      <td>0</td>\n",
              "      <td>3</td>\n",
              "      <td>11</td>\n",
              "      <td>0</td>\n",
              "    </tr>\n",
              "    <tr>\n",
              "      <th>3</th>\n",
              "      <td>6182</td>\n",
              "      <td>1984</td>\n",
              "      <td>Graduation</td>\n",
              "      <td>Together</td>\n",
              "      <td>26646.0</td>\n",
              "      <td>1</td>\n",
              "      <td>0</td>\n",
              "      <td>10-02-2014</td>\n",
              "      <td>26</td>\n",
              "      <td>11</td>\n",
              "      <td>...</td>\n",
              "      <td>6</td>\n",
              "      <td>0</td>\n",
              "      <td>0</td>\n",
              "      <td>0</td>\n",
              "      <td>0</td>\n",
              "      <td>0</td>\n",
              "      <td>0</td>\n",
              "      <td>3</td>\n",
              "      <td>11</td>\n",
              "      <td>0</td>\n",
              "    </tr>\n",
              "    <tr>\n",
              "      <th>4</th>\n",
              "      <td>5324</td>\n",
              "      <td>1981</td>\n",
              "      <td>PhD</td>\n",
              "      <td>Married</td>\n",
              "      <td>58293.0</td>\n",
              "      <td>1</td>\n",
              "      <td>0</td>\n",
              "      <td>19-01-2014</td>\n",
              "      <td>94</td>\n",
              "      <td>173</td>\n",
              "      <td>...</td>\n",
              "      <td>5</td>\n",
              "      <td>0</td>\n",
              "      <td>0</td>\n",
              "      <td>0</td>\n",
              "      <td>0</td>\n",
              "      <td>0</td>\n",
              "      <td>0</td>\n",
              "      <td>3</td>\n",
              "      <td>11</td>\n",
              "      <td>0</td>\n",
              "    </tr>\n",
              "  </tbody>\n",
              "</table>\n",
              "<p>5 rows × 29 columns</p>\n",
              "</div>\n",
              "      <button class=\"colab-df-convert\" onclick=\"convertToInteractive('df-c15e8db7-6e09-482f-bc2b-9592fca0e44d')\"\n",
              "              title=\"Convert this dataframe to an interactive table.\"\n",
              "              style=\"display:none;\">\n",
              "\n",
              "  <svg xmlns=\"http://www.w3.org/2000/svg\" height=\"24px\"viewBox=\"0 0 24 24\"\n",
              "       width=\"24px\">\n",
              "    <path d=\"M0 0h24v24H0V0z\" fill=\"none\"/>\n",
              "    <path d=\"M18.56 5.44l.94 2.06.94-2.06 2.06-.94-2.06-.94-.94-2.06-.94 2.06-2.06.94zm-11 1L8.5 8.5l.94-2.06 2.06-.94-2.06-.94L8.5 2.5l-.94 2.06-2.06.94zm10 10l.94 2.06.94-2.06 2.06-.94-2.06-.94-.94-2.06-.94 2.06-2.06.94z\"/><path d=\"M17.41 7.96l-1.37-1.37c-.4-.4-.92-.59-1.43-.59-.52 0-1.04.2-1.43.59L10.3 9.45l-7.72 7.72c-.78.78-.78 2.05 0 2.83L4 21.41c.39.39.9.59 1.41.59.51 0 1.02-.2 1.41-.59l7.78-7.78 2.81-2.81c.8-.78.8-2.07 0-2.86zM5.41 20L4 18.59l7.72-7.72 1.47 1.35L5.41 20z\"/>\n",
              "  </svg>\n",
              "      </button>\n",
              "\n",
              "\n",
              "\n",
              "    <div id=\"df-63a62d0a-c475-4823-bcf0-33d86609ceb4\">\n",
              "      <button class=\"colab-df-quickchart\" onclick=\"quickchart('df-63a62d0a-c475-4823-bcf0-33d86609ceb4')\"\n",
              "              title=\"Suggest charts.\"\n",
              "              style=\"display:none;\">\n",
              "\n",
              "<svg xmlns=\"http://www.w3.org/2000/svg\" height=\"24px\"viewBox=\"0 0 24 24\"\n",
              "     width=\"24px\">\n",
              "    <g>\n",
              "        <path d=\"M19 3H5c-1.1 0-2 .9-2 2v14c0 1.1.9 2 2 2h14c1.1 0 2-.9 2-2V5c0-1.1-.9-2-2-2zM9 17H7v-7h2v7zm4 0h-2V7h2v10zm4 0h-2v-4h2v4z\"/>\n",
              "    </g>\n",
              "</svg>\n",
              "      </button>\n",
              "    </div>\n",
              "\n",
              "<style>\n",
              "  .colab-df-quickchart {\n",
              "    background-color: #E8F0FE;\n",
              "    border: none;\n",
              "    border-radius: 50%;\n",
              "    cursor: pointer;\n",
              "    display: none;\n",
              "    fill: #1967D2;\n",
              "    height: 32px;\n",
              "    padding: 0 0 0 0;\n",
              "    width: 32px;\n",
              "  }\n",
              "\n",
              "  .colab-df-quickchart:hover {\n",
              "    background-color: #E2EBFA;\n",
              "    box-shadow: 0px 1px 2px rgba(60, 64, 67, 0.3), 0px 1px 3px 1px rgba(60, 64, 67, 0.15);\n",
              "    fill: #174EA6;\n",
              "  }\n",
              "\n",
              "  [theme=dark] .colab-df-quickchart {\n",
              "    background-color: #3B4455;\n",
              "    fill: #D2E3FC;\n",
              "  }\n",
              "\n",
              "  [theme=dark] .colab-df-quickchart:hover {\n",
              "    background-color: #434B5C;\n",
              "    box-shadow: 0px 1px 3px 1px rgba(0, 0, 0, 0.15);\n",
              "    filter: drop-shadow(0px 1px 2px rgba(0, 0, 0, 0.3));\n",
              "    fill: #FFFFFF;\n",
              "  }\n",
              "</style>\n",
              "\n",
              "    <script>\n",
              "      async function quickchart(key) {\n",
              "        const containerElement = document.querySelector('#' + key);\n",
              "        const charts = await google.colab.kernel.invokeFunction(\n",
              "            'suggestCharts', [key], {});\n",
              "      }\n",
              "    </script>\n",
              "\n",
              "      <script>\n",
              "\n",
              "function displayQuickchartButton(domScope) {\n",
              "  let quickchartButtonEl =\n",
              "    domScope.querySelector('#df-63a62d0a-c475-4823-bcf0-33d86609ceb4 button.colab-df-quickchart');\n",
              "  quickchartButtonEl.style.display =\n",
              "    google.colab.kernel.accessAllowed ? 'block' : 'none';\n",
              "}\n",
              "\n",
              "        displayQuickchartButton(document);\n",
              "      </script>\n",
              "      <style>\n",
              "    .colab-df-container {\n",
              "      display:flex;\n",
              "      flex-wrap:wrap;\n",
              "      gap: 12px;\n",
              "    }\n",
              "\n",
              "    .colab-df-convert {\n",
              "      background-color: #E8F0FE;\n",
              "      border: none;\n",
              "      border-radius: 50%;\n",
              "      cursor: pointer;\n",
              "      display: none;\n",
              "      fill: #1967D2;\n",
              "      height: 32px;\n",
              "      padding: 0 0 0 0;\n",
              "      width: 32px;\n",
              "    }\n",
              "\n",
              "    .colab-df-convert:hover {\n",
              "      background-color: #E2EBFA;\n",
              "      box-shadow: 0px 1px 2px rgba(60, 64, 67, 0.3), 0px 1px 3px 1px rgba(60, 64, 67, 0.15);\n",
              "      fill: #174EA6;\n",
              "    }\n",
              "\n",
              "    [theme=dark] .colab-df-convert {\n",
              "      background-color: #3B4455;\n",
              "      fill: #D2E3FC;\n",
              "    }\n",
              "\n",
              "    [theme=dark] .colab-df-convert:hover {\n",
              "      background-color: #434B5C;\n",
              "      box-shadow: 0px 1px 3px 1px rgba(0, 0, 0, 0.15);\n",
              "      filter: drop-shadow(0px 1px 2px rgba(0, 0, 0, 0.3));\n",
              "      fill: #FFFFFF;\n",
              "    }\n",
              "  </style>\n",
              "\n",
              "      <script>\n",
              "        const buttonEl =\n",
              "          document.querySelector('#df-c15e8db7-6e09-482f-bc2b-9592fca0e44d button.colab-df-convert');\n",
              "        buttonEl.style.display =\n",
              "          google.colab.kernel.accessAllowed ? 'block' : 'none';\n",
              "\n",
              "        async function convertToInteractive(key) {\n",
              "          const element = document.querySelector('#df-c15e8db7-6e09-482f-bc2b-9592fca0e44d');\n",
              "          const dataTable =\n",
              "            await google.colab.kernel.invokeFunction('convertToInteractive',\n",
              "                                                     [key], {});\n",
              "          if (!dataTable) return;\n",
              "\n",
              "          const docLinkHtml = 'Like what you see? Visit the ' +\n",
              "            '<a target=\"_blank\" href=https://colab.research.google.com/notebooks/data_table.ipynb>data table notebook</a>'\n",
              "            + ' to learn more about interactive tables.';\n",
              "          element.innerHTML = '';\n",
              "          dataTable['output_type'] = 'display_data';\n",
              "          await google.colab.output.renderOutput(dataTable, element);\n",
              "          const docLink = document.createElement('div');\n",
              "          docLink.innerHTML = docLinkHtml;\n",
              "          element.appendChild(docLink);\n",
              "        }\n",
              "      </script>\n",
              "    </div>\n",
              "  </div>\n"
            ]
          },
          "metadata": {},
          "execution_count": 18
        }
      ]
    },
    {
      "cell_type": "code",
      "source": [
        "df1 = df[df['Response']==0]"
      ],
      "metadata": {
        "id": "Q6-T0fN9YQ3S"
      },
      "execution_count": null,
      "outputs": []
    },
    {
      "cell_type": "code",
      "source": [
        "df1.shape"
      ],
      "metadata": {
        "colab": {
          "base_uri": "https://localhost:8080/"
        },
        "id": "vnK3yQ0ZYWtx",
        "outputId": "9c5e29e2-61ca-46cc-a2c4-d57e2dee5cd0"
      },
      "execution_count": null,
      "outputs": [
        {
          "output_type": "execute_result",
          "data": {
            "text/plain": [
              "(1906, 29)"
            ]
          },
          "metadata": {},
          "execution_count": 21
        }
      ]
    },
    {
      "cell_type": "code",
      "source": [
        "df2 = df[df['Response']==1]"
      ],
      "metadata": {
        "id": "98WRLiVbYeGR"
      },
      "execution_count": null,
      "outputs": []
    },
    {
      "cell_type": "code",
      "source": [
        "df2.shape"
      ],
      "metadata": {
        "colab": {
          "base_uri": "https://localhost:8080/"
        },
        "id": "na-PymCkYh75",
        "outputId": "3c0ee7c5-63e6-4695-fbf9-6b80b9c17a43"
      },
      "execution_count": null,
      "outputs": [
        {
          "output_type": "execute_result",
          "data": {
            "text/plain": [
              "(334, 29)"
            ]
          },
          "metadata": {},
          "execution_count": 23
        }
      ]
    },
    {
      "cell_type": "code",
      "source": [
        "df2_sampled = df2.sample(n=20, random_state=100)\n",
        "df1_sampled = df1.sample(n=20, random_state=100)"
      ],
      "metadata": {
        "id": "3QOTPc0JYmgp"
      },
      "execution_count": null,
      "outputs": []
    },
    {
      "cell_type": "code",
      "source": [
        "print(df2_sampled.shape)\n",
        "print(df1_sampled.shape)"
      ],
      "metadata": {
        "colab": {
          "base_uri": "https://localhost:8080/"
        },
        "id": "wFDEKciuYrUC",
        "outputId": "3b3528f5-71de-49f7-eaff-9900c7ec13d8"
      },
      "execution_count": null,
      "outputs": [
        {
          "output_type": "stream",
          "name": "stdout",
          "text": [
            "(20, 29)\n",
            "(20, 29)\n"
          ]
        }
      ]
    },
    {
      "cell_type": "code",
      "source": [
        "df1_sampled_recency = df1_sampled['Recency']\n",
        "df2_sampled_recency = df2_sampled['Recency']\n",
        "print(df1_sampled_recency)\n",
        "print(df2_sampled_recency)\n"
      ],
      "metadata": {
        "colab": {
          "base_uri": "https://localhost:8080/"
        },
        "id": "p7C6iq8VctPg",
        "outputId": "3030ac4d-7b37-4c4d-8c9d-1adfdf7a159f"
      },
      "execution_count": null,
      "outputs": [
        {
          "output_type": "stream",
          "name": "stdout",
          "text": [
            "1663    45\n",
            "1637    23\n",
            "129     72\n",
            "1479    79\n",
            "221     56\n",
            "501      2\n",
            "1051    16\n",
            "2164    13\n",
            "1546     5\n",
            "856      2\n",
            "2205    80\n",
            "233     37\n",
            "1931    93\n",
            "1046    91\n",
            "30      34\n",
            "1198    72\n",
            "1205    87\n",
            "861     35\n",
            "1219    55\n",
            "558     27\n",
            "Name: Recency, dtype: int64\n",
            "2028     5\n",
            "1265    78\n",
            "2198    10\n",
            "344     13\n",
            "1958    60\n",
            "913     11\n",
            "1339    36\n",
            "1111     1\n",
            "1834     0\n",
            "1329     3\n",
            "962     12\n",
            "8       19\n",
            "595     12\n",
            "1704     7\n",
            "1722    32\n",
            "1922    84\n",
            "1458    16\n",
            "906     10\n",
            "2002    29\n",
            "1721    71\n",
            "Name: Recency, dtype: int64\n"
          ]
        }
      ]
    },
    {
      "cell_type": "code",
      "source": [
        "# Calculating the mean of the two data groups\n",
        "mean1 = np.mean(df1_sampled_recency)\n",
        "mean2 = np.mean(df2_sampled_recency)\n",
        "\n",
        "# Print mean values\n",
        "print(\"Data group 1 mean value:\", mean1)\n",
        "print(\"Data group 2 mean value:\", mean2)\n",
        "\n",
        "# Calculating standard deviation\n",
        "std1 = np.std(df1_sampled_recency)\n",
        "std2 = np.std(df2_sampled_recency)\n",
        "\n",
        "# Printing standard deviation values\n",
        "print(\"Data group 1 std value:\", std1)\n",
        "print(\"Data group 2 std value:\", std2)\n",
        "\n",
        "# Implementing the t-test\n",
        "t_test,p_val = ttest_ind(df1_sampled_recency, df2_sampled_recency)\n",
        "print(\"The t-test is: \", t_test)\n",
        "print(\"The P-value is: \", p_val)\n",
        "\n",
        "# taking the threshold value as 0.05 or 5%\n",
        "if p_val < 0.05:\n",
        "    print(\"We can reject the null hypothesis\")\n",
        "else:\n",
        "    print(\"We can accept the null hypothesis\")"
      ],
      "metadata": {
        "colab": {
          "base_uri": "https://localhost:8080/"
        },
        "id": "EfdHoZg6dAl4",
        "outputId": "b385b9ee-1efe-4f0c-a662-02a4d48039c7"
      },
      "execution_count": null,
      "outputs": [
        {
          "output_type": "stream",
          "name": "stdout",
          "text": [
            "Data group 1 mean value: 46.2\n",
            "Data group 2 mean value: 25.45\n",
            "Data group 1 std value: 30.39012997668815\n",
            "Data group 2 std value: 25.948940248110326\n",
            "The t-test is:  2.2633672171348307\n",
            "The P-value is:  0.02940784495031162\n",
            "We can reject the null hypothesis\n"
          ]
        }
      ]
    },
    {
      "cell_type": "code",
      "source": [
        "df[['Education','Response']]"
      ],
      "metadata": {
        "colab": {
          "base_uri": "https://localhost:8080/",
          "height": 423
        },
        "id": "NTzFi8DTgfoO",
        "outputId": "08cb238d-e749-4a76-fc5e-def4a06d092d"
      },
      "execution_count": null,
      "outputs": [
        {
          "output_type": "execute_result",
          "data": {
            "text/plain": [
              "       Education  Response\n",
              "0     Graduation         1\n",
              "1     Graduation         0\n",
              "2     Graduation         0\n",
              "3     Graduation         0\n",
              "4            PhD         0\n",
              "...          ...       ...\n",
              "2235  Graduation         0\n",
              "2236         PhD         0\n",
              "2237  Graduation         0\n",
              "2238      Master         0\n",
              "2239         PhD         1\n",
              "\n",
              "[2240 rows x 2 columns]"
            ],
            "text/html": [
              "\n",
              "\n",
              "  <div id=\"df-5f77905e-2888-4ad8-890c-cb14712a6174\">\n",
              "    <div class=\"colab-df-container\">\n",
              "      <div>\n",
              "<style scoped>\n",
              "    .dataframe tbody tr th:only-of-type {\n",
              "        vertical-align: middle;\n",
              "    }\n",
              "\n",
              "    .dataframe tbody tr th {\n",
              "        vertical-align: top;\n",
              "    }\n",
              "\n",
              "    .dataframe thead th {\n",
              "        text-align: right;\n",
              "    }\n",
              "</style>\n",
              "<table border=\"1\" class=\"dataframe\">\n",
              "  <thead>\n",
              "    <tr style=\"text-align: right;\">\n",
              "      <th></th>\n",
              "      <th>Education</th>\n",
              "      <th>Response</th>\n",
              "    </tr>\n",
              "  </thead>\n",
              "  <tbody>\n",
              "    <tr>\n",
              "      <th>0</th>\n",
              "      <td>Graduation</td>\n",
              "      <td>1</td>\n",
              "    </tr>\n",
              "    <tr>\n",
              "      <th>1</th>\n",
              "      <td>Graduation</td>\n",
              "      <td>0</td>\n",
              "    </tr>\n",
              "    <tr>\n",
              "      <th>2</th>\n",
              "      <td>Graduation</td>\n",
              "      <td>0</td>\n",
              "    </tr>\n",
              "    <tr>\n",
              "      <th>3</th>\n",
              "      <td>Graduation</td>\n",
              "      <td>0</td>\n",
              "    </tr>\n",
              "    <tr>\n",
              "      <th>4</th>\n",
              "      <td>PhD</td>\n",
              "      <td>0</td>\n",
              "    </tr>\n",
              "    <tr>\n",
              "      <th>...</th>\n",
              "      <td>...</td>\n",
              "      <td>...</td>\n",
              "    </tr>\n",
              "    <tr>\n",
              "      <th>2235</th>\n",
              "      <td>Graduation</td>\n",
              "      <td>0</td>\n",
              "    </tr>\n",
              "    <tr>\n",
              "      <th>2236</th>\n",
              "      <td>PhD</td>\n",
              "      <td>0</td>\n",
              "    </tr>\n",
              "    <tr>\n",
              "      <th>2237</th>\n",
              "      <td>Graduation</td>\n",
              "      <td>0</td>\n",
              "    </tr>\n",
              "    <tr>\n",
              "      <th>2238</th>\n",
              "      <td>Master</td>\n",
              "      <td>0</td>\n",
              "    </tr>\n",
              "    <tr>\n",
              "      <th>2239</th>\n",
              "      <td>PhD</td>\n",
              "      <td>1</td>\n",
              "    </tr>\n",
              "  </tbody>\n",
              "</table>\n",
              "<p>2240 rows × 2 columns</p>\n",
              "</div>\n",
              "      <button class=\"colab-df-convert\" onclick=\"convertToInteractive('df-5f77905e-2888-4ad8-890c-cb14712a6174')\"\n",
              "              title=\"Convert this dataframe to an interactive table.\"\n",
              "              style=\"display:none;\">\n",
              "\n",
              "  <svg xmlns=\"http://www.w3.org/2000/svg\" height=\"24px\"viewBox=\"0 0 24 24\"\n",
              "       width=\"24px\">\n",
              "    <path d=\"M0 0h24v24H0V0z\" fill=\"none\"/>\n",
              "    <path d=\"M18.56 5.44l.94 2.06.94-2.06 2.06-.94-2.06-.94-.94-2.06-.94 2.06-2.06.94zm-11 1L8.5 8.5l.94-2.06 2.06-.94-2.06-.94L8.5 2.5l-.94 2.06-2.06.94zm10 10l.94 2.06.94-2.06 2.06-.94-2.06-.94-.94-2.06-.94 2.06-2.06.94z\"/><path d=\"M17.41 7.96l-1.37-1.37c-.4-.4-.92-.59-1.43-.59-.52 0-1.04.2-1.43.59L10.3 9.45l-7.72 7.72c-.78.78-.78 2.05 0 2.83L4 21.41c.39.39.9.59 1.41.59.51 0 1.02-.2 1.41-.59l7.78-7.78 2.81-2.81c.8-.78.8-2.07 0-2.86zM5.41 20L4 18.59l7.72-7.72 1.47 1.35L5.41 20z\"/>\n",
              "  </svg>\n",
              "      </button>\n",
              "\n",
              "\n",
              "\n",
              "    <div id=\"df-1ddbab2a-e0c4-41b3-8f67-3e37f2e778d7\">\n",
              "      <button class=\"colab-df-quickchart\" onclick=\"quickchart('df-1ddbab2a-e0c4-41b3-8f67-3e37f2e778d7')\"\n",
              "              title=\"Suggest charts.\"\n",
              "              style=\"display:none;\">\n",
              "\n",
              "<svg xmlns=\"http://www.w3.org/2000/svg\" height=\"24px\"viewBox=\"0 0 24 24\"\n",
              "     width=\"24px\">\n",
              "    <g>\n",
              "        <path d=\"M19 3H5c-1.1 0-2 .9-2 2v14c0 1.1.9 2 2 2h14c1.1 0 2-.9 2-2V5c0-1.1-.9-2-2-2zM9 17H7v-7h2v7zm4 0h-2V7h2v10zm4 0h-2v-4h2v4z\"/>\n",
              "    </g>\n",
              "</svg>\n",
              "      </button>\n",
              "    </div>\n",
              "\n",
              "<style>\n",
              "  .colab-df-quickchart {\n",
              "    background-color: #E8F0FE;\n",
              "    border: none;\n",
              "    border-radius: 50%;\n",
              "    cursor: pointer;\n",
              "    display: none;\n",
              "    fill: #1967D2;\n",
              "    height: 32px;\n",
              "    padding: 0 0 0 0;\n",
              "    width: 32px;\n",
              "  }\n",
              "\n",
              "  .colab-df-quickchart:hover {\n",
              "    background-color: #E2EBFA;\n",
              "    box-shadow: 0px 1px 2px rgba(60, 64, 67, 0.3), 0px 1px 3px 1px rgba(60, 64, 67, 0.15);\n",
              "    fill: #174EA6;\n",
              "  }\n",
              "\n",
              "  [theme=dark] .colab-df-quickchart {\n",
              "    background-color: #3B4455;\n",
              "    fill: #D2E3FC;\n",
              "  }\n",
              "\n",
              "  [theme=dark] .colab-df-quickchart:hover {\n",
              "    background-color: #434B5C;\n",
              "    box-shadow: 0px 1px 3px 1px rgba(0, 0, 0, 0.15);\n",
              "    filter: drop-shadow(0px 1px 2px rgba(0, 0, 0, 0.3));\n",
              "    fill: #FFFFFF;\n",
              "  }\n",
              "</style>\n",
              "\n",
              "    <script>\n",
              "      async function quickchart(key) {\n",
              "        const containerElement = document.querySelector('#' + key);\n",
              "        const charts = await google.colab.kernel.invokeFunction(\n",
              "            'suggestCharts', [key], {});\n",
              "      }\n",
              "    </script>\n",
              "\n",
              "      <script>\n",
              "\n",
              "function displayQuickchartButton(domScope) {\n",
              "  let quickchartButtonEl =\n",
              "    domScope.querySelector('#df-1ddbab2a-e0c4-41b3-8f67-3e37f2e778d7 button.colab-df-quickchart');\n",
              "  quickchartButtonEl.style.display =\n",
              "    google.colab.kernel.accessAllowed ? 'block' : 'none';\n",
              "}\n",
              "\n",
              "        displayQuickchartButton(document);\n",
              "      </script>\n",
              "      <style>\n",
              "    .colab-df-container {\n",
              "      display:flex;\n",
              "      flex-wrap:wrap;\n",
              "      gap: 12px;\n",
              "    }\n",
              "\n",
              "    .colab-df-convert {\n",
              "      background-color: #E8F0FE;\n",
              "      border: none;\n",
              "      border-radius: 50%;\n",
              "      cursor: pointer;\n",
              "      display: none;\n",
              "      fill: #1967D2;\n",
              "      height: 32px;\n",
              "      padding: 0 0 0 0;\n",
              "      width: 32px;\n",
              "    }\n",
              "\n",
              "    .colab-df-convert:hover {\n",
              "      background-color: #E2EBFA;\n",
              "      box-shadow: 0px 1px 2px rgba(60, 64, 67, 0.3), 0px 1px 3px 1px rgba(60, 64, 67, 0.15);\n",
              "      fill: #174EA6;\n",
              "    }\n",
              "\n",
              "    [theme=dark] .colab-df-convert {\n",
              "      background-color: #3B4455;\n",
              "      fill: #D2E3FC;\n",
              "    }\n",
              "\n",
              "    [theme=dark] .colab-df-convert:hover {\n",
              "      background-color: #434B5C;\n",
              "      box-shadow: 0px 1px 3px 1px rgba(0, 0, 0, 0.15);\n",
              "      filter: drop-shadow(0px 1px 2px rgba(0, 0, 0, 0.3));\n",
              "      fill: #FFFFFF;\n",
              "    }\n",
              "  </style>\n",
              "\n",
              "      <script>\n",
              "        const buttonEl =\n",
              "          document.querySelector('#df-5f77905e-2888-4ad8-890c-cb14712a6174 button.colab-df-convert');\n",
              "        buttonEl.style.display =\n",
              "          google.colab.kernel.accessAllowed ? 'block' : 'none';\n",
              "\n",
              "        async function convertToInteractive(key) {\n",
              "          const element = document.querySelector('#df-5f77905e-2888-4ad8-890c-cb14712a6174');\n",
              "          const dataTable =\n",
              "            await google.colab.kernel.invokeFunction('convertToInteractive',\n",
              "                                                     [key], {});\n",
              "          if (!dataTable) return;\n",
              "\n",
              "          const docLinkHtml = 'Like what you see? Visit the ' +\n",
              "            '<a target=\"_blank\" href=https://colab.research.google.com/notebooks/data_table.ipynb>data table notebook</a>'\n",
              "            + ' to learn more about interactive tables.';\n",
              "          element.innerHTML = '';\n",
              "          dataTable['output_type'] = 'display_data';\n",
              "          await google.colab.output.renderOutput(dataTable, element);\n",
              "          const docLink = document.createElement('div');\n",
              "          docLink.innerHTML = docLinkHtml;\n",
              "          element.appendChild(docLink);\n",
              "        }\n",
              "      </script>\n",
              "    </div>\n",
              "  </div>\n"
            ]
          },
          "metadata": {},
          "execution_count": 38
        }
      ]
    },
    {
      "cell_type": "code",
      "source": [
        "df_contingency = pd.crosstab(df['Education'],df['Response'])"
      ],
      "metadata": {
        "id": "zLYHH38jhPUW"
      },
      "execution_count": null,
      "outputs": []
    },
    {
      "cell_type": "code",
      "source": [
        "df_contingency"
      ],
      "metadata": {
        "colab": {
          "base_uri": "https://localhost:8080/",
          "height": 237
        },
        "id": "JfDRU-Y_hbF-",
        "outputId": "d3432c1e-7c6a-4d45-b1b8-4c40e9a889d5"
      },
      "execution_count": null,
      "outputs": [
        {
          "output_type": "execute_result",
          "data": {
            "text/plain": [
              "Response      0    1\n",
              "Education           \n",
              "2n Cycle    181   22\n",
              "Basic        52    2\n",
              "Graduation  975  152\n",
              "Master      313   57\n",
              "PhD         385  101"
            ],
            "text/html": [
              "\n",
              "\n",
              "  <div id=\"df-9324979b-1fc8-4e2b-9525-607f501dd21c\">\n",
              "    <div class=\"colab-df-container\">\n",
              "      <div>\n",
              "<style scoped>\n",
              "    .dataframe tbody tr th:only-of-type {\n",
              "        vertical-align: middle;\n",
              "    }\n",
              "\n",
              "    .dataframe tbody tr th {\n",
              "        vertical-align: top;\n",
              "    }\n",
              "\n",
              "    .dataframe thead th {\n",
              "        text-align: right;\n",
              "    }\n",
              "</style>\n",
              "<table border=\"1\" class=\"dataframe\">\n",
              "  <thead>\n",
              "    <tr style=\"text-align: right;\">\n",
              "      <th>Response</th>\n",
              "      <th>0</th>\n",
              "      <th>1</th>\n",
              "    </tr>\n",
              "    <tr>\n",
              "      <th>Education</th>\n",
              "      <th></th>\n",
              "      <th></th>\n",
              "    </tr>\n",
              "  </thead>\n",
              "  <tbody>\n",
              "    <tr>\n",
              "      <th>2n Cycle</th>\n",
              "      <td>181</td>\n",
              "      <td>22</td>\n",
              "    </tr>\n",
              "    <tr>\n",
              "      <th>Basic</th>\n",
              "      <td>52</td>\n",
              "      <td>2</td>\n",
              "    </tr>\n",
              "    <tr>\n",
              "      <th>Graduation</th>\n",
              "      <td>975</td>\n",
              "      <td>152</td>\n",
              "    </tr>\n",
              "    <tr>\n",
              "      <th>Master</th>\n",
              "      <td>313</td>\n",
              "      <td>57</td>\n",
              "    </tr>\n",
              "    <tr>\n",
              "      <th>PhD</th>\n",
              "      <td>385</td>\n",
              "      <td>101</td>\n",
              "    </tr>\n",
              "  </tbody>\n",
              "</table>\n",
              "</div>\n",
              "      <button class=\"colab-df-convert\" onclick=\"convertToInteractive('df-9324979b-1fc8-4e2b-9525-607f501dd21c')\"\n",
              "              title=\"Convert this dataframe to an interactive table.\"\n",
              "              style=\"display:none;\">\n",
              "\n",
              "  <svg xmlns=\"http://www.w3.org/2000/svg\" height=\"24px\"viewBox=\"0 0 24 24\"\n",
              "       width=\"24px\">\n",
              "    <path d=\"M0 0h24v24H0V0z\" fill=\"none\"/>\n",
              "    <path d=\"M18.56 5.44l.94 2.06.94-2.06 2.06-.94-2.06-.94-.94-2.06-.94 2.06-2.06.94zm-11 1L8.5 8.5l.94-2.06 2.06-.94-2.06-.94L8.5 2.5l-.94 2.06-2.06.94zm10 10l.94 2.06.94-2.06 2.06-.94-2.06-.94-.94-2.06-.94 2.06-2.06.94z\"/><path d=\"M17.41 7.96l-1.37-1.37c-.4-.4-.92-.59-1.43-.59-.52 0-1.04.2-1.43.59L10.3 9.45l-7.72 7.72c-.78.78-.78 2.05 0 2.83L4 21.41c.39.39.9.59 1.41.59.51 0 1.02-.2 1.41-.59l7.78-7.78 2.81-2.81c.8-.78.8-2.07 0-2.86zM5.41 20L4 18.59l7.72-7.72 1.47 1.35L5.41 20z\"/>\n",
              "  </svg>\n",
              "      </button>\n",
              "\n",
              "\n",
              "\n",
              "    <div id=\"df-123eba8d-3237-4ba9-a1ae-1327cf50d525\">\n",
              "      <button class=\"colab-df-quickchart\" onclick=\"quickchart('df-123eba8d-3237-4ba9-a1ae-1327cf50d525')\"\n",
              "              title=\"Suggest charts.\"\n",
              "              style=\"display:none;\">\n",
              "\n",
              "<svg xmlns=\"http://www.w3.org/2000/svg\" height=\"24px\"viewBox=\"0 0 24 24\"\n",
              "     width=\"24px\">\n",
              "    <g>\n",
              "        <path d=\"M19 3H5c-1.1 0-2 .9-2 2v14c0 1.1.9 2 2 2h14c1.1 0 2-.9 2-2V5c0-1.1-.9-2-2-2zM9 17H7v-7h2v7zm4 0h-2V7h2v10zm4 0h-2v-4h2v4z\"/>\n",
              "    </g>\n",
              "</svg>\n",
              "      </button>\n",
              "    </div>\n",
              "\n",
              "<style>\n",
              "  .colab-df-quickchart {\n",
              "    background-color: #E8F0FE;\n",
              "    border: none;\n",
              "    border-radius: 50%;\n",
              "    cursor: pointer;\n",
              "    display: none;\n",
              "    fill: #1967D2;\n",
              "    height: 32px;\n",
              "    padding: 0 0 0 0;\n",
              "    width: 32px;\n",
              "  }\n",
              "\n",
              "  .colab-df-quickchart:hover {\n",
              "    background-color: #E2EBFA;\n",
              "    box-shadow: 0px 1px 2px rgba(60, 64, 67, 0.3), 0px 1px 3px 1px rgba(60, 64, 67, 0.15);\n",
              "    fill: #174EA6;\n",
              "  }\n",
              "\n",
              "  [theme=dark] .colab-df-quickchart {\n",
              "    background-color: #3B4455;\n",
              "    fill: #D2E3FC;\n",
              "  }\n",
              "\n",
              "  [theme=dark] .colab-df-quickchart:hover {\n",
              "    background-color: #434B5C;\n",
              "    box-shadow: 0px 1px 3px 1px rgba(0, 0, 0, 0.15);\n",
              "    filter: drop-shadow(0px 1px 2px rgba(0, 0, 0, 0.3));\n",
              "    fill: #FFFFFF;\n",
              "  }\n",
              "</style>\n",
              "\n",
              "    <script>\n",
              "      async function quickchart(key) {\n",
              "        const containerElement = document.querySelector('#' + key);\n",
              "        const charts = await google.colab.kernel.invokeFunction(\n",
              "            'suggestCharts', [key], {});\n",
              "      }\n",
              "    </script>\n",
              "\n",
              "      <script>\n",
              "\n",
              "function displayQuickchartButton(domScope) {\n",
              "  let quickchartButtonEl =\n",
              "    domScope.querySelector('#df-123eba8d-3237-4ba9-a1ae-1327cf50d525 button.colab-df-quickchart');\n",
              "  quickchartButtonEl.style.display =\n",
              "    google.colab.kernel.accessAllowed ? 'block' : 'none';\n",
              "}\n",
              "\n",
              "        displayQuickchartButton(document);\n",
              "      </script>\n",
              "      <style>\n",
              "    .colab-df-container {\n",
              "      display:flex;\n",
              "      flex-wrap:wrap;\n",
              "      gap: 12px;\n",
              "    }\n",
              "\n",
              "    .colab-df-convert {\n",
              "      background-color: #E8F0FE;\n",
              "      border: none;\n",
              "      border-radius: 50%;\n",
              "      cursor: pointer;\n",
              "      display: none;\n",
              "      fill: #1967D2;\n",
              "      height: 32px;\n",
              "      padding: 0 0 0 0;\n",
              "      width: 32px;\n",
              "    }\n",
              "\n",
              "    .colab-df-convert:hover {\n",
              "      background-color: #E2EBFA;\n",
              "      box-shadow: 0px 1px 2px rgba(60, 64, 67, 0.3), 0px 1px 3px 1px rgba(60, 64, 67, 0.15);\n",
              "      fill: #174EA6;\n",
              "    }\n",
              "\n",
              "    [theme=dark] .colab-df-convert {\n",
              "      background-color: #3B4455;\n",
              "      fill: #D2E3FC;\n",
              "    }\n",
              "\n",
              "    [theme=dark] .colab-df-convert:hover {\n",
              "      background-color: #434B5C;\n",
              "      box-shadow: 0px 1px 3px 1px rgba(0, 0, 0, 0.15);\n",
              "      filter: drop-shadow(0px 1px 2px rgba(0, 0, 0, 0.3));\n",
              "      fill: #FFFFFF;\n",
              "    }\n",
              "  </style>\n",
              "\n",
              "      <script>\n",
              "        const buttonEl =\n",
              "          document.querySelector('#df-9324979b-1fc8-4e2b-9525-607f501dd21c button.colab-df-convert');\n",
              "        buttonEl.style.display =\n",
              "          google.colab.kernel.accessAllowed ? 'block' : 'none';\n",
              "\n",
              "        async function convertToInteractive(key) {\n",
              "          const element = document.querySelector('#df-9324979b-1fc8-4e2b-9525-607f501dd21c');\n",
              "          const dataTable =\n",
              "            await google.colab.kernel.invokeFunction('convertToInteractive',\n",
              "                                                     [key], {});\n",
              "          if (!dataTable) return;\n",
              "\n",
              "          const docLinkHtml = 'Like what you see? Visit the ' +\n",
              "            '<a target=\"_blank\" href=https://colab.research.google.com/notebooks/data_table.ipynb>data table notebook</a>'\n",
              "            + ' to learn more about interactive tables.';\n",
              "          element.innerHTML = '';\n",
              "          dataTable['output_type'] = 'display_data';\n",
              "          await google.colab.output.renderOutput(dataTable, element);\n",
              "          const docLink = document.createElement('div');\n",
              "          docLink.innerHTML = docLinkHtml;\n",
              "          element.appendChild(docLink);\n",
              "        }\n",
              "      </script>\n",
              "    </div>\n",
              "  </div>\n"
            ]
          },
          "metadata": {},
          "execution_count": 41
        }
      ]
    },
    {
      "cell_type": "code",
      "source": [
        "from scipy.stats.contingency import chi2_contingency\n",
        "chi2_statistics, pvalue, dof, exp = chi2_contingency(df_contingency)"
      ],
      "metadata": {
        "id": "V5lp6SGFhvAu"
      },
      "execution_count": null,
      "outputs": []
    },
    {
      "cell_type": "code",
      "source": [
        "print(chi2_statistics)"
      ],
      "metadata": {
        "colab": {
          "base_uri": "https://localhost:8080/"
        },
        "id": "CNOrk7Jmie6H",
        "outputId": "ff6ec07f-414a-44e4-9532-3b5b32cc8f84"
      },
      "execution_count": null,
      "outputs": [
        {
          "output_type": "stream",
          "name": "stdout",
          "text": [
            "23.0760975769431\n"
          ]
        }
      ]
    },
    {
      "cell_type": "code",
      "source": [
        "print(pvalue)"
      ],
      "metadata": {
        "colab": {
          "base_uri": "https://localhost:8080/"
        },
        "id": "pXdvK8HyijIm",
        "outputId": "45a13247-7cb9-4544-d53e-1b8494c778bb"
      },
      "execution_count": null,
      "outputs": [
        {
          "output_type": "stream",
          "name": "stdout",
          "text": [
            "0.00012226975294505314\n"
          ]
        }
      ]
    },
    {
      "cell_type": "code",
      "source": [
        "print(dof)"
      ],
      "metadata": {
        "colab": {
          "base_uri": "https://localhost:8080/"
        },
        "id": "DVKTeH1milmG",
        "outputId": "0aadaec1-e2fd-443e-b149-3a2f7a39a18e"
      },
      "execution_count": null,
      "outputs": [
        {
          "output_type": "stream",
          "name": "stdout",
          "text": [
            "4\n"
          ]
        }
      ]
    },
    {
      "cell_type": "code",
      "source": [
        "print(exp)"
      ],
      "metadata": {
        "colab": {
          "base_uri": "https://localhost:8080/"
        },
        "id": "CSE5MTkpioFl",
        "outputId": "1c51d6f2-9785-4b50-f434-32cb14c5438d"
      },
      "execution_count": null,
      "outputs": [
        {
          "output_type": "stream",
          "name": "stdout",
          "text": [
            "[[172.73125     30.26875   ]\n",
            " [ 45.94821429   8.05178571]\n",
            " [958.95625    168.04375   ]\n",
            " [314.83035714  55.16964286]\n",
            " [413.53392857  72.46607143]]\n"
          ]
        }
      ]
    }
  ]
}