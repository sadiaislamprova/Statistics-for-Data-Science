{
  "nbformat": 4,
  "nbformat_minor": 0,
  "metadata": {
    "colab": {
      "provenance": []
    },
    "kernelspec": {
      "name": "python3",
      "display_name": "Python 3"
    },
    "language_info": {
      "name": "python"
    }
  },
  "cells": [
    {
      "cell_type": "code",
      "execution_count": null,
      "metadata": {
        "colab": {
          "base_uri": "https://localhost:8080/"
        },
        "id": "1bD8nEpOugai",
        "outputId": "413c5075-3474-443e-d5ae-dcd1c61fe5ec"
      },
      "outputs": [
        {
          "output_type": "execute_result",
          "data": {
            "text/plain": [
              "[45, 97, 24, 62, 99, 7, 75, 92, 5, 52, 10, 87, 57, 66, 17, 55, 53, 40, 53, 54]"
            ]
          },
          "metadata": {},
          "execution_count": 3
        }
      ],
      "source": [
        "import random\n",
        "randomList=[]\n",
        "for i in range(20):\n",
        "   a=random.randint(1,100)\n",
        "   randomList.append(a)\n",
        "randomList"
      ]
    },
    {
      "cell_type": "code",
      "source": [
        "def findMax(array):\n",
        "    if len(array) == 0:\n",
        "        return None\n",
        "\n",
        "    maxvalue = array[0]\n",
        "    for num in array:\n",
        "        if num > maxvalue:\n",
        "            maxvalue = num\n",
        "    return maxvalue"
      ],
      "metadata": {
        "id": "q7mnZl56u2nD"
      },
      "execution_count": null,
      "outputs": []
    },
    {
      "cell_type": "code",
      "source": [
        "my_array = randomList\n",
        "maximum = findMax(my_array)\n",
        "print(maximum)"
      ],
      "metadata": {
        "colab": {
          "base_uri": "https://localhost:8080/"
        },
        "id": "Zjr_9eLiw_cr",
        "outputId": "d6326925-f4e3-4b38-9d3c-6aeafc28d6e3"
      },
      "execution_count": null,
      "outputs": [
        {
          "output_type": "stream",
          "name": "stdout",
          "text": [
            "99\n"
          ]
        }
      ]
    },
    {
      "cell_type": "code",
      "source": [
        "def findMin(array):\n",
        "    if len(array) == 0:\n",
        "        return None\n",
        "    minvalue = array[0]\n",
        "    for num in array:\n",
        "        if num < minvalue:\n",
        "            minvalue = num\n",
        "\n",
        "    return minvalue"
      ],
      "metadata": {
        "id": "OO5b3QrQxAY1"
      },
      "execution_count": null,
      "outputs": []
    },
    {
      "cell_type": "code",
      "source": [
        "my_array = randomList\n",
        "minimum = findMin(my_array)\n",
        "print(minimum)"
      ],
      "metadata": {
        "colab": {
          "base_uri": "https://localhost:8080/"
        },
        "id": "BM9bT3GtxDIu",
        "outputId": "2eb04525-3e7b-43b8-e7b6-53b048203079"
      },
      "execution_count": null,
      "outputs": [
        {
          "output_type": "stream",
          "name": "stdout",
          "text": [
            "5\n"
          ]
        }
      ]
    },
    {
      "cell_type": "code",
      "source": [
        "def linearSearch(array, value):\n",
        "    for index, num in enumerate(array):\n",
        "        if num == value:\n",
        "            return index\n",
        "    return -1"
      ],
      "metadata": {
        "id": "XZXCH6cQxQHG"
      },
      "execution_count": null,
      "outputs": []
    },
    {
      "cell_type": "code",
      "source": [
        "my_array = randomList\n",
        "search_value = 99\n",
        "result = linearSearch(my_array, search_value)\n",
        "print(result)"
      ],
      "metadata": {
        "colab": {
          "base_uri": "https://localhost:8080/"
        },
        "id": "YlnvkAhyxlvC",
        "outputId": "65e384ac-3665-4642-b124-d3acd2e1287a"
      },
      "execution_count": null,
      "outputs": [
        {
          "output_type": "stream",
          "name": "stdout",
          "text": [
            "14\n"
          ]
        }
      ]
    },
    {
      "cell_type": "code",
      "source": [
        "def binarySearch(array, value):\n",
        "    left = 0\n",
        "    right = len(array) - 1\n",
        "\n",
        "    while left <= right:\n",
        "        mid = (left + right) // 2\n",
        "\n",
        "        if array[mid] == value:\n",
        "            return mid\n",
        "        elif array[mid] < value:\n",
        "            left = mid + 1\n",
        "        else:\n",
        "            right = mid - 1\n",
        "\n",
        "    return -1"
      ],
      "metadata": {
        "id": "oI5rIv8hyQnV"
      },
      "execution_count": null,
      "outputs": []
    },
    {
      "cell_type": "code",
      "source": [
        "my_array = randomList\n",
        "search_value = 9\n",
        "result = binarySearch(my_array, search_value)\n",
        "print(result)"
      ],
      "metadata": {
        "colab": {
          "base_uri": "https://localhost:8080/"
        },
        "id": "_rKotDfyyTlx",
        "outputId": "15fed8ba-a646-40e3-ba4c-08225652099d"
      },
      "execution_count": null,
      "outputs": [
        {
          "output_type": "stream",
          "name": "stdout",
          "text": [
            "-1\n"
          ]
        }
      ]
    },
    {
      "cell_type": "code",
      "source": [
        "def bubbleSort(array):\n",
        "    n = len(array)\n",
        "\n",
        "    for i in range(n - 1):\n",
        "\n",
        "        for j in range(n - i - 1):\n",
        "            if array[j] > array[j + 1]:\n",
        "\n",
        "                array[j], array[j + 1] = array[j + 1], array[j]\n",
        "\n",
        "    return array"
      ],
      "metadata": {
        "id": "J9B1xutMyYn6"
      },
      "execution_count": null,
      "outputs": []
    },
    {
      "cell_type": "code",
      "source": [
        "my_array = [5, 2, 8, 1, 9]\n",
        "sorted_array = bubbleSort(my_array)\n",
        "print(sorted_array)"
      ],
      "metadata": {
        "colab": {
          "base_uri": "https://localhost:8080/"
        },
        "id": "gZhhTlR7yZWU",
        "outputId": "e96453d7-7a90-4b6b-f74d-712ad8c2d305"
      },
      "execution_count": null,
      "outputs": [
        {
          "output_type": "stream",
          "name": "stdout",
          "text": [
            "[1, 2, 5, 8, 9]\n"
          ]
        }
      ]
    },
    {
      "cell_type": "code",
      "source": [
        "def matrixAdd(matrix1, matrix2):\n",
        "    result = [[matrix1[i][j] + matrix2[i][j] for j in range(len(matrix1[i]))] for i in range(len(matrix1))]\n",
        "    return result"
      ],
      "metadata": {
        "id": "wEVOhi1xye12"
      },
      "execution_count": null,
      "outputs": []
    },
    {
      "cell_type": "code",
      "source": [
        "matrix1 = [[1, 2, 3], [4, 5, 6], [7, 8, 9]]\n",
        "matrix2 = [[9, 8, 7], [6, 5, 4], [3, 2, 1]]\n",
        "addition_result = matrixAdd(matrix1, matrix2)\n",
        "print(addition_result)"
      ],
      "metadata": {
        "colab": {
          "base_uri": "https://localhost:8080/"
        },
        "id": "a0Jn3N8UyiTv",
        "outputId": "92517f91-4d03-4009-816f-4d30484b3449"
      },
      "execution_count": null,
      "outputs": [
        {
          "output_type": "stream",
          "name": "stdout",
          "text": [
            "[[10, 10, 10], [10, 10, 10], [10, 10, 10]]\n"
          ]
        }
      ]
    },
    {
      "cell_type": "code",
      "source": [
        "def matrixSub(matrix1, matrix2):\n",
        "    result = [[matrix1[i][j] - matrix2[i][j] for j in range(len(matrix1[i]))] for i in range(len(matrix1))]\n",
        "    return result"
      ],
      "metadata": {
        "id": "77Y9ZyhCzDug"
      },
      "execution_count": null,
      "outputs": []
    },
    {
      "cell_type": "code",
      "source": [
        "matrix1 = [[1, 2, 3], [4, 5, 6], [7, 8, 9]]\n",
        "matrix2 = [[9, 8, 7], [6, 5, 4], [3, 2, 1]]\n",
        "addition_result = matrixSub(matrix1, matrix2)\n",
        "print(addition_result)"
      ],
      "metadata": {
        "colab": {
          "base_uri": "https://localhost:8080/"
        },
        "id": "WgfqNySMzGGi",
        "outputId": "5b8c814d-62be-47a5-f276-b4fa92ea33be"
      },
      "execution_count": null,
      "outputs": [
        {
          "output_type": "stream",
          "name": "stdout",
          "text": [
            "[[-8, -6, -4], [-2, 0, 2], [4, 6, 8]]\n"
          ]
        }
      ]
    },
    {
      "cell_type": "code",
      "source": [
        "def matrixMulti(matrix1, matrix2):\n",
        "    result = [[matrix1[i][j] * matrix2[i][j] for j in range(len(matrix1[i]))] for i in range(len(matrix1))]\n",
        "    return result"
      ],
      "metadata": {
        "id": "FTcmh6mEzb3L"
      },
      "execution_count": null,
      "outputs": []
    },
    {
      "cell_type": "code",
      "source": [
        "matrix1 = [[1, 2, 3], [4, 5, 6], [7, 8, 9]]\n",
        "matrix2 = [[9, 8, 7], [6, 5, 4], [3, 2, 1]]\n",
        "addition_result = matrixMulti(matrix1, matrix2)\n",
        "print(addition_result)"
      ],
      "metadata": {
        "colab": {
          "base_uri": "https://localhost:8080/"
        },
        "id": "S8tAgfyvzhcx",
        "outputId": "eed98a08-753d-4a78-deb8-638c09453b47"
      },
      "execution_count": null,
      "outputs": [
        {
          "output_type": "stream",
          "name": "stdout",
          "text": [
            "[[9, 16, 21], [24, 25, 24], [21, 16, 9]]\n"
          ]
        }
      ]
    }
  ]
}