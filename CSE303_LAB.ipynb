{
  "nbformat": 4,
  "nbformat_minor": 0,
  "metadata": {
    "colab": {
      "provenance": []
    },
    "kernelspec": {
      "name": "python3",
      "display_name": "Python 3"
    },
    "language_info": {
      "name": "python"
    }
  },
  "cells": [
    {
      "cell_type": "markdown",
      "source": [
        "**Dataset Description**\n",
        "1. longitude: A measure of how far west a house is; a higher value is farther west\n",
        "2. latitude: A measure of how far north a house is; a higher value is farther north\n",
        "3. housingMedianAge: Median age of a house within a block; a lower number is a newer building\n",
        "4. totalRooms: Total number of rooms within a block\n",
        "5. totalBedrooms: Total number of bedrooms within a block\n",
        "6. population: Total number of people residing within a block\n",
        "7. households: Total number of households, a group of people residing within a home unit, for a block\n",
        "8. medianIncome: Median income for households within a block of houses (measured in tens of thousands of US Dollars)\n",
        "9. medianHouseValue: Median house value for households within a block (measured in US Dollars)\n",
        "10. oceanProximity: Location of the house w.r.t ocean/sea\n",
        "\n",
        "\n",
        "\n",
        "\n",
        "\n",
        "\n",
        "\n",
        "\n",
        "\n",
        "\n",
        "\n",
        "\n",
        "\n",
        "\n"
      ],
      "metadata": {
        "id": "MgZSQMGUAwZ5"
      }
    },
    {
      "cell_type": "markdown",
      "source": [
        "**Loading the Dataset**"
      ],
      "metadata": {
        "id": "hTittNOt_3MV"
      }
    },
    {
      "cell_type": "code",
      "source": [
        "import pandas as pd\n",
        "import numpy as np"
      ],
      "metadata": {
        "id": "jPEQYrt19OWM"
      },
      "execution_count": 2,
      "outputs": []
    },
    {
      "cell_type": "code",
      "source": [
        "df = pd.read_csv('housing.csv')\n",
        "df.head(5)"
      ],
      "metadata": {
        "colab": {
          "base_uri": "https://localhost:8080/",
          "height": 206
        },
        "id": "POsvJyXh_DY6",
        "outputId": "c13c475f-04c2-40b3-a38f-3e57dd586118"
      },
      "execution_count": 3,
      "outputs": [
        {
          "output_type": "execute_result",
          "data": {
            "text/plain": [
              "   longitude  latitude  housing_median_age  total_rooms  total_bedrooms  \\\n",
              "0    -122.23     37.88                41.0        880.0           129.0   \n",
              "1    -122.22     37.86                21.0       7099.0          1106.0   \n",
              "2    -122.24     37.85                52.0       1467.0           190.0   \n",
              "3    -122.25     37.85                52.0       1274.0           235.0   \n",
              "4    -122.25     37.85                52.0       1627.0           280.0   \n",
              "\n",
              "   population  households  median_income  median_house_value ocean_proximity  \n",
              "0       322.0       126.0         8.3252            452600.0        NEAR BAY  \n",
              "1      2401.0      1138.0         8.3014            358500.0        NEAR BAY  \n",
              "2       496.0       177.0         7.2574            352100.0        NEAR BAY  \n",
              "3       558.0       219.0         5.6431            341300.0        NEAR BAY  \n",
              "4       565.0       259.0         3.8462            342200.0        NEAR BAY  "
            ],
            "text/html": [
              "\n",
              "  <div id=\"df-94d69f67-ccd6-40a1-a3dc-b5dd17c0599f\" class=\"colab-df-container\">\n",
              "    <div>\n",
              "<style scoped>\n",
              "    .dataframe tbody tr th:only-of-type {\n",
              "        vertical-align: middle;\n",
              "    }\n",
              "\n",
              "    .dataframe tbody tr th {\n",
              "        vertical-align: top;\n",
              "    }\n",
              "\n",
              "    .dataframe thead th {\n",
              "        text-align: right;\n",
              "    }\n",
              "</style>\n",
              "<table border=\"1\" class=\"dataframe\">\n",
              "  <thead>\n",
              "    <tr style=\"text-align: right;\">\n",
              "      <th></th>\n",
              "      <th>longitude</th>\n",
              "      <th>latitude</th>\n",
              "      <th>housing_median_age</th>\n",
              "      <th>total_rooms</th>\n",
              "      <th>total_bedrooms</th>\n",
              "      <th>population</th>\n",
              "      <th>households</th>\n",
              "      <th>median_income</th>\n",
              "      <th>median_house_value</th>\n",
              "      <th>ocean_proximity</th>\n",
              "    </tr>\n",
              "  </thead>\n",
              "  <tbody>\n",
              "    <tr>\n",
              "      <th>0</th>\n",
              "      <td>-122.23</td>\n",
              "      <td>37.88</td>\n",
              "      <td>41.0</td>\n",
              "      <td>880.0</td>\n",
              "      <td>129.0</td>\n",
              "      <td>322.0</td>\n",
              "      <td>126.0</td>\n",
              "      <td>8.3252</td>\n",
              "      <td>452600.0</td>\n",
              "      <td>NEAR BAY</td>\n",
              "    </tr>\n",
              "    <tr>\n",
              "      <th>1</th>\n",
              "      <td>-122.22</td>\n",
              "      <td>37.86</td>\n",
              "      <td>21.0</td>\n",
              "      <td>7099.0</td>\n",
              "      <td>1106.0</td>\n",
              "      <td>2401.0</td>\n",
              "      <td>1138.0</td>\n",
              "      <td>8.3014</td>\n",
              "      <td>358500.0</td>\n",
              "      <td>NEAR BAY</td>\n",
              "    </tr>\n",
              "    <tr>\n",
              "      <th>2</th>\n",
              "      <td>-122.24</td>\n",
              "      <td>37.85</td>\n",
              "      <td>52.0</td>\n",
              "      <td>1467.0</td>\n",
              "      <td>190.0</td>\n",
              "      <td>496.0</td>\n",
              "      <td>177.0</td>\n",
              "      <td>7.2574</td>\n",
              "      <td>352100.0</td>\n",
              "      <td>NEAR BAY</td>\n",
              "    </tr>\n",
              "    <tr>\n",
              "      <th>3</th>\n",
              "      <td>-122.25</td>\n",
              "      <td>37.85</td>\n",
              "      <td>52.0</td>\n",
              "      <td>1274.0</td>\n",
              "      <td>235.0</td>\n",
              "      <td>558.0</td>\n",
              "      <td>219.0</td>\n",
              "      <td>5.6431</td>\n",
              "      <td>341300.0</td>\n",
              "      <td>NEAR BAY</td>\n",
              "    </tr>\n",
              "    <tr>\n",
              "      <th>4</th>\n",
              "      <td>-122.25</td>\n",
              "      <td>37.85</td>\n",
              "      <td>52.0</td>\n",
              "      <td>1627.0</td>\n",
              "      <td>280.0</td>\n",
              "      <td>565.0</td>\n",
              "      <td>259.0</td>\n",
              "      <td>3.8462</td>\n",
              "      <td>342200.0</td>\n",
              "      <td>NEAR BAY</td>\n",
              "    </tr>\n",
              "  </tbody>\n",
              "</table>\n",
              "</div>\n",
              "    <div class=\"colab-df-buttons\">\n",
              "\n",
              "  <div class=\"colab-df-container\">\n",
              "    <button class=\"colab-df-convert\" onclick=\"convertToInteractive('df-94d69f67-ccd6-40a1-a3dc-b5dd17c0599f')\"\n",
              "            title=\"Convert this dataframe to an interactive table.\"\n",
              "            style=\"display:none;\">\n",
              "\n",
              "  <svg xmlns=\"http://www.w3.org/2000/svg\" height=\"24px\" viewBox=\"0 -960 960 960\">\n",
              "    <path d=\"M120-120v-720h720v720H120Zm60-500h600v-160H180v160Zm220 220h160v-160H400v160Zm0 220h160v-160H400v160ZM180-400h160v-160H180v160Zm440 0h160v-160H620v160ZM180-180h160v-160H180v160Zm440 0h160v-160H620v160Z\"/>\n",
              "  </svg>\n",
              "    </button>\n",
              "\n",
              "  <style>\n",
              "    .colab-df-container {\n",
              "      display:flex;\n",
              "      gap: 12px;\n",
              "    }\n",
              "\n",
              "    .colab-df-convert {\n",
              "      background-color: #E8F0FE;\n",
              "      border: none;\n",
              "      border-radius: 50%;\n",
              "      cursor: pointer;\n",
              "      display: none;\n",
              "      fill: #1967D2;\n",
              "      height: 32px;\n",
              "      padding: 0 0 0 0;\n",
              "      width: 32px;\n",
              "    }\n",
              "\n",
              "    .colab-df-convert:hover {\n",
              "      background-color: #E2EBFA;\n",
              "      box-shadow: 0px 1px 2px rgba(60, 64, 67, 0.3), 0px 1px 3px 1px rgba(60, 64, 67, 0.15);\n",
              "      fill: #174EA6;\n",
              "    }\n",
              "\n",
              "    .colab-df-buttons div {\n",
              "      margin-bottom: 4px;\n",
              "    }\n",
              "\n",
              "    [theme=dark] .colab-df-convert {\n",
              "      background-color: #3B4455;\n",
              "      fill: #D2E3FC;\n",
              "    }\n",
              "\n",
              "    [theme=dark] .colab-df-convert:hover {\n",
              "      background-color: #434B5C;\n",
              "      box-shadow: 0px 1px 3px 1px rgba(0, 0, 0, 0.15);\n",
              "      filter: drop-shadow(0px 1px 2px rgba(0, 0, 0, 0.3));\n",
              "      fill: #FFFFFF;\n",
              "    }\n",
              "  </style>\n",
              "\n",
              "    <script>\n",
              "      const buttonEl =\n",
              "        document.querySelector('#df-94d69f67-ccd6-40a1-a3dc-b5dd17c0599f button.colab-df-convert');\n",
              "      buttonEl.style.display =\n",
              "        google.colab.kernel.accessAllowed ? 'block' : 'none';\n",
              "\n",
              "      async function convertToInteractive(key) {\n",
              "        const element = document.querySelector('#df-94d69f67-ccd6-40a1-a3dc-b5dd17c0599f');\n",
              "        const dataTable =\n",
              "          await google.colab.kernel.invokeFunction('convertToInteractive',\n",
              "                                                    [key], {});\n",
              "        if (!dataTable) return;\n",
              "\n",
              "        const docLinkHtml = 'Like what you see? Visit the ' +\n",
              "          '<a target=\"_blank\" href=https://colab.research.google.com/notebooks/data_table.ipynb>data table notebook</a>'\n",
              "          + ' to learn more about interactive tables.';\n",
              "        element.innerHTML = '';\n",
              "        dataTable['output_type'] = 'display_data';\n",
              "        await google.colab.output.renderOutput(dataTable, element);\n",
              "        const docLink = document.createElement('div');\n",
              "        docLink.innerHTML = docLinkHtml;\n",
              "        element.appendChild(docLink);\n",
              "      }\n",
              "    </script>\n",
              "  </div>\n",
              "\n",
              "\n",
              "<div id=\"df-98621b17-5f52-4ca7-a668-73f94fa4df15\">\n",
              "  <button class=\"colab-df-quickchart\" onclick=\"quickchart('df-98621b17-5f52-4ca7-a668-73f94fa4df15')\"\n",
              "            title=\"Suggest charts\"\n",
              "            style=\"display:none;\">\n",
              "\n",
              "<svg xmlns=\"http://www.w3.org/2000/svg\" height=\"24px\"viewBox=\"0 0 24 24\"\n",
              "     width=\"24px\">\n",
              "    <g>\n",
              "        <path d=\"M19 3H5c-1.1 0-2 .9-2 2v14c0 1.1.9 2 2 2h14c1.1 0 2-.9 2-2V5c0-1.1-.9-2-2-2zM9 17H7v-7h2v7zm4 0h-2V7h2v10zm4 0h-2v-4h2v4z\"/>\n",
              "    </g>\n",
              "</svg>\n",
              "  </button>\n",
              "\n",
              "<style>\n",
              "  .colab-df-quickchart {\n",
              "      --bg-color: #E8F0FE;\n",
              "      --fill-color: #1967D2;\n",
              "      --hover-bg-color: #E2EBFA;\n",
              "      --hover-fill-color: #174EA6;\n",
              "      --disabled-fill-color: #AAA;\n",
              "      --disabled-bg-color: #DDD;\n",
              "  }\n",
              "\n",
              "  [theme=dark] .colab-df-quickchart {\n",
              "      --bg-color: #3B4455;\n",
              "      --fill-color: #D2E3FC;\n",
              "      --hover-bg-color: #434B5C;\n",
              "      --hover-fill-color: #FFFFFF;\n",
              "      --disabled-bg-color: #3B4455;\n",
              "      --disabled-fill-color: #666;\n",
              "  }\n",
              "\n",
              "  .colab-df-quickchart {\n",
              "    background-color: var(--bg-color);\n",
              "    border: none;\n",
              "    border-radius: 50%;\n",
              "    cursor: pointer;\n",
              "    display: none;\n",
              "    fill: var(--fill-color);\n",
              "    height: 32px;\n",
              "    padding: 0;\n",
              "    width: 32px;\n",
              "  }\n",
              "\n",
              "  .colab-df-quickchart:hover {\n",
              "    background-color: var(--hover-bg-color);\n",
              "    box-shadow: 0 1px 2px rgba(60, 64, 67, 0.3), 0 1px 3px 1px rgba(60, 64, 67, 0.15);\n",
              "    fill: var(--button-hover-fill-color);\n",
              "  }\n",
              "\n",
              "  .colab-df-quickchart-complete:disabled,\n",
              "  .colab-df-quickchart-complete:disabled:hover {\n",
              "    background-color: var(--disabled-bg-color);\n",
              "    fill: var(--disabled-fill-color);\n",
              "    box-shadow: none;\n",
              "  }\n",
              "\n",
              "  .colab-df-spinner {\n",
              "    border: 2px solid var(--fill-color);\n",
              "    border-color: transparent;\n",
              "    border-bottom-color: var(--fill-color);\n",
              "    animation:\n",
              "      spin 1s steps(1) infinite;\n",
              "  }\n",
              "\n",
              "  @keyframes spin {\n",
              "    0% {\n",
              "      border-color: transparent;\n",
              "      border-bottom-color: var(--fill-color);\n",
              "      border-left-color: var(--fill-color);\n",
              "    }\n",
              "    20% {\n",
              "      border-color: transparent;\n",
              "      border-left-color: var(--fill-color);\n",
              "      border-top-color: var(--fill-color);\n",
              "    }\n",
              "    30% {\n",
              "      border-color: transparent;\n",
              "      border-left-color: var(--fill-color);\n",
              "      border-top-color: var(--fill-color);\n",
              "      border-right-color: var(--fill-color);\n",
              "    }\n",
              "    40% {\n",
              "      border-color: transparent;\n",
              "      border-right-color: var(--fill-color);\n",
              "      border-top-color: var(--fill-color);\n",
              "    }\n",
              "    60% {\n",
              "      border-color: transparent;\n",
              "      border-right-color: var(--fill-color);\n",
              "    }\n",
              "    80% {\n",
              "      border-color: transparent;\n",
              "      border-right-color: var(--fill-color);\n",
              "      border-bottom-color: var(--fill-color);\n",
              "    }\n",
              "    90% {\n",
              "      border-color: transparent;\n",
              "      border-bottom-color: var(--fill-color);\n",
              "    }\n",
              "  }\n",
              "</style>\n",
              "\n",
              "  <script>\n",
              "    async function quickchart(key) {\n",
              "      const quickchartButtonEl =\n",
              "        document.querySelector('#' + key + ' button');\n",
              "      quickchartButtonEl.disabled = true;  // To prevent multiple clicks.\n",
              "      quickchartButtonEl.classList.add('colab-df-spinner');\n",
              "      try {\n",
              "        const charts = await google.colab.kernel.invokeFunction(\n",
              "            'suggestCharts', [key], {});\n",
              "      } catch (error) {\n",
              "        console.error('Error during call to suggestCharts:', error);\n",
              "      }\n",
              "      quickchartButtonEl.classList.remove('colab-df-spinner');\n",
              "      quickchartButtonEl.classList.add('colab-df-quickchart-complete');\n",
              "    }\n",
              "    (() => {\n",
              "      let quickchartButtonEl =\n",
              "        document.querySelector('#df-98621b17-5f52-4ca7-a668-73f94fa4df15 button');\n",
              "      quickchartButtonEl.style.display =\n",
              "        google.colab.kernel.accessAllowed ? 'block' : 'none';\n",
              "    })();\n",
              "  </script>\n",
              "</div>\n",
              "\n",
              "    </div>\n",
              "  </div>\n"
            ],
            "application/vnd.google.colaboratory.intrinsic+json": {
              "type": "dataframe",
              "variable_name": "df",
              "summary": "{\n  \"name\": \"df\",\n  \"rows\": 20640,\n  \"fields\": [\n    {\n      \"column\": \"longitude\",\n      \"properties\": {\n        \"dtype\": \"number\",\n        \"std\": 2.0035317235025882,\n        \"min\": -124.35,\n        \"max\": -114.31,\n        \"num_unique_values\": 844,\n        \"samples\": [\n          -118.63,\n          -119.86,\n          -121.26\n        ],\n        \"semantic_type\": \"\",\n        \"description\": \"\"\n      }\n    },\n    {\n      \"column\": \"latitude\",\n      \"properties\": {\n        \"dtype\": \"number\",\n        \"std\": 2.1359523974571153,\n        \"min\": 32.54,\n        \"max\": 41.95,\n        \"num_unique_values\": 862,\n        \"samples\": [\n          33.7,\n          34.41,\n          38.24\n        ],\n        \"semantic_type\": \"\",\n        \"description\": \"\"\n      }\n    },\n    {\n      \"column\": \"housing_median_age\",\n      \"properties\": {\n        \"dtype\": \"number\",\n        \"std\": 12.58555761211165,\n        \"min\": 1.0,\n        \"max\": 52.0,\n        \"num_unique_values\": 52,\n        \"samples\": [\n          35.0,\n          25.0,\n          7.0\n        ],\n        \"semantic_type\": \"\",\n        \"description\": \"\"\n      }\n    },\n    {\n      \"column\": \"total_rooms\",\n      \"properties\": {\n        \"dtype\": \"number\",\n        \"std\": 2181.615251582795,\n        \"min\": 2.0,\n        \"max\": 39320.0,\n        \"num_unique_values\": 5926,\n        \"samples\": [\n          699.0,\n          1544.0,\n          3966.0\n        ],\n        \"semantic_type\": \"\",\n        \"description\": \"\"\n      }\n    },\n    {\n      \"column\": \"total_bedrooms\",\n      \"properties\": {\n        \"dtype\": \"number\",\n        \"std\": 421.3850700740323,\n        \"min\": 1.0,\n        \"max\": 6445.0,\n        \"num_unique_values\": 1923,\n        \"samples\": [\n          1538.0,\n          1298.0,\n          1578.0\n        ],\n        \"semantic_type\": \"\",\n        \"description\": \"\"\n      }\n    },\n    {\n      \"column\": \"population\",\n      \"properties\": {\n        \"dtype\": \"number\",\n        \"std\": 1132.462121765341,\n        \"min\": 3.0,\n        \"max\": 35682.0,\n        \"num_unique_values\": 3888,\n        \"samples\": [\n          4169.0,\n          636.0,\n          3367.0\n        ],\n        \"semantic_type\": \"\",\n        \"description\": \"\"\n      }\n    },\n    {\n      \"column\": \"households\",\n      \"properties\": {\n        \"dtype\": \"number\",\n        \"std\": 382.32975283161073,\n        \"min\": 1.0,\n        \"max\": 6082.0,\n        \"num_unique_values\": 1815,\n        \"samples\": [\n          21.0,\n          750.0,\n          1447.0\n        ],\n        \"semantic_type\": \"\",\n        \"description\": \"\"\n      }\n    },\n    {\n      \"column\": \"median_income\",\n      \"properties\": {\n        \"dtype\": \"number\",\n        \"std\": 1.8998217179452688,\n        \"min\": 0.4999,\n        \"max\": 15.0001,\n        \"num_unique_values\": 12928,\n        \"samples\": [\n          5.0286,\n          2.0433,\n          6.1228\n        ],\n        \"semantic_type\": \"\",\n        \"description\": \"\"\n      }\n    },\n    {\n      \"column\": \"median_house_value\",\n      \"properties\": {\n        \"dtype\": \"number\",\n        \"std\": 115395.61587441387,\n        \"min\": 14999.0,\n        \"max\": 500001.0,\n        \"num_unique_values\": 3842,\n        \"samples\": [\n          194300.0,\n          379000.0,\n          230100.0\n        ],\n        \"semantic_type\": \"\",\n        \"description\": \"\"\n      }\n    },\n    {\n      \"column\": \"ocean_proximity\",\n      \"properties\": {\n        \"dtype\": \"category\",\n        \"num_unique_values\": 5,\n        \"samples\": [\n          \"<1H OCEAN\",\n          \"ISLAND\",\n          \"INLAND\"\n        ],\n        \"semantic_type\": \"\",\n        \"description\": \"\"\n      }\n    }\n  ]\n}"
            }
          },
          "metadata": {},
          "execution_count": 3
        }
      ]
    },
    {
      "cell_type": "code",
      "source": [
        "df.shape"
      ],
      "metadata": {
        "colab": {
          "base_uri": "https://localhost:8080/"
        },
        "id": "ltWCqZvRCvTp",
        "outputId": "6ed6c398-3f55-4430-92c5-a459d2fc31b4"
      },
      "execution_count": 4,
      "outputs": [
        {
          "output_type": "execute_result",
          "data": {
            "text/plain": [
              "(20640, 10)"
            ]
          },
          "metadata": {},
          "execution_count": 4
        }
      ]
    },
    {
      "cell_type": "markdown",
      "source": [
        "**Task A. Basic Data Slicing, Projecting, Querying** (5*5 = 25 Points)"
      ],
      "metadata": {
        "id": "Lmt0Cr4WAPzh"
      }
    },
    {
      "cell_type": "markdown",
      "source": [
        "A.0. Show the columns total rooms and median house value."
      ],
      "metadata": {
        "id": "jfJtuPMbAnZR"
      }
    },
    {
      "cell_type": "code",
      "source": [
        "df[['total_rooms','median_house_value']]"
      ],
      "metadata": {
        "colab": {
          "base_uri": "https://localhost:8080/",
          "height": 423
        },
        "id": "bPTyI2QOCl9Y",
        "outputId": "58c50ca1-a29e-4582-9136-e3e8d76a9980"
      },
      "execution_count": 5,
      "outputs": [
        {
          "output_type": "execute_result",
          "data": {
            "text/plain": [
              "       total_rooms  median_house_value\n",
              "0            880.0            452600.0\n",
              "1           7099.0            358500.0\n",
              "2           1467.0            352100.0\n",
              "3           1274.0            341300.0\n",
              "4           1627.0            342200.0\n",
              "...            ...                 ...\n",
              "20635       1665.0             78100.0\n",
              "20636        697.0             77100.0\n",
              "20637       2254.0             92300.0\n",
              "20638       1860.0             84700.0\n",
              "20639       2785.0             89400.0\n",
              "\n",
              "[20640 rows x 2 columns]"
            ],
            "text/html": [
              "\n",
              "  <div id=\"df-9d423112-a5b0-4e74-832d-f26417bdacb4\" class=\"colab-df-container\">\n",
              "    <div>\n",
              "<style scoped>\n",
              "    .dataframe tbody tr th:only-of-type {\n",
              "        vertical-align: middle;\n",
              "    }\n",
              "\n",
              "    .dataframe tbody tr th {\n",
              "        vertical-align: top;\n",
              "    }\n",
              "\n",
              "    .dataframe thead th {\n",
              "        text-align: right;\n",
              "    }\n",
              "</style>\n",
              "<table border=\"1\" class=\"dataframe\">\n",
              "  <thead>\n",
              "    <tr style=\"text-align: right;\">\n",
              "      <th></th>\n",
              "      <th>total_rooms</th>\n",
              "      <th>median_house_value</th>\n",
              "    </tr>\n",
              "  </thead>\n",
              "  <tbody>\n",
              "    <tr>\n",
              "      <th>0</th>\n",
              "      <td>880.0</td>\n",
              "      <td>452600.0</td>\n",
              "    </tr>\n",
              "    <tr>\n",
              "      <th>1</th>\n",
              "      <td>7099.0</td>\n",
              "      <td>358500.0</td>\n",
              "    </tr>\n",
              "    <tr>\n",
              "      <th>2</th>\n",
              "      <td>1467.0</td>\n",
              "      <td>352100.0</td>\n",
              "    </tr>\n",
              "    <tr>\n",
              "      <th>3</th>\n",
              "      <td>1274.0</td>\n",
              "      <td>341300.0</td>\n",
              "    </tr>\n",
              "    <tr>\n",
              "      <th>4</th>\n",
              "      <td>1627.0</td>\n",
              "      <td>342200.0</td>\n",
              "    </tr>\n",
              "    <tr>\n",
              "      <th>...</th>\n",
              "      <td>...</td>\n",
              "      <td>...</td>\n",
              "    </tr>\n",
              "    <tr>\n",
              "      <th>20635</th>\n",
              "      <td>1665.0</td>\n",
              "      <td>78100.0</td>\n",
              "    </tr>\n",
              "    <tr>\n",
              "      <th>20636</th>\n",
              "      <td>697.0</td>\n",
              "      <td>77100.0</td>\n",
              "    </tr>\n",
              "    <tr>\n",
              "      <th>20637</th>\n",
              "      <td>2254.0</td>\n",
              "      <td>92300.0</td>\n",
              "    </tr>\n",
              "    <tr>\n",
              "      <th>20638</th>\n",
              "      <td>1860.0</td>\n",
              "      <td>84700.0</td>\n",
              "    </tr>\n",
              "    <tr>\n",
              "      <th>20639</th>\n",
              "      <td>2785.0</td>\n",
              "      <td>89400.0</td>\n",
              "    </tr>\n",
              "  </tbody>\n",
              "</table>\n",
              "<p>20640 rows × 2 columns</p>\n",
              "</div>\n",
              "    <div class=\"colab-df-buttons\">\n",
              "\n",
              "  <div class=\"colab-df-container\">\n",
              "    <button class=\"colab-df-convert\" onclick=\"convertToInteractive('df-9d423112-a5b0-4e74-832d-f26417bdacb4')\"\n",
              "            title=\"Convert this dataframe to an interactive table.\"\n",
              "            style=\"display:none;\">\n",
              "\n",
              "  <svg xmlns=\"http://www.w3.org/2000/svg\" height=\"24px\" viewBox=\"0 -960 960 960\">\n",
              "    <path d=\"M120-120v-720h720v720H120Zm60-500h600v-160H180v160Zm220 220h160v-160H400v160Zm0 220h160v-160H400v160ZM180-400h160v-160H180v160Zm440 0h160v-160H620v160ZM180-180h160v-160H180v160Zm440 0h160v-160H620v160Z\"/>\n",
              "  </svg>\n",
              "    </button>\n",
              "\n",
              "  <style>\n",
              "    .colab-df-container {\n",
              "      display:flex;\n",
              "      gap: 12px;\n",
              "    }\n",
              "\n",
              "    .colab-df-convert {\n",
              "      background-color: #E8F0FE;\n",
              "      border: none;\n",
              "      border-radius: 50%;\n",
              "      cursor: pointer;\n",
              "      display: none;\n",
              "      fill: #1967D2;\n",
              "      height: 32px;\n",
              "      padding: 0 0 0 0;\n",
              "      width: 32px;\n",
              "    }\n",
              "\n",
              "    .colab-df-convert:hover {\n",
              "      background-color: #E2EBFA;\n",
              "      box-shadow: 0px 1px 2px rgba(60, 64, 67, 0.3), 0px 1px 3px 1px rgba(60, 64, 67, 0.15);\n",
              "      fill: #174EA6;\n",
              "    }\n",
              "\n",
              "    .colab-df-buttons div {\n",
              "      margin-bottom: 4px;\n",
              "    }\n",
              "\n",
              "    [theme=dark] .colab-df-convert {\n",
              "      background-color: #3B4455;\n",
              "      fill: #D2E3FC;\n",
              "    }\n",
              "\n",
              "    [theme=dark] .colab-df-convert:hover {\n",
              "      background-color: #434B5C;\n",
              "      box-shadow: 0px 1px 3px 1px rgba(0, 0, 0, 0.15);\n",
              "      filter: drop-shadow(0px 1px 2px rgba(0, 0, 0, 0.3));\n",
              "      fill: #FFFFFF;\n",
              "    }\n",
              "  </style>\n",
              "\n",
              "    <script>\n",
              "      const buttonEl =\n",
              "        document.querySelector('#df-9d423112-a5b0-4e74-832d-f26417bdacb4 button.colab-df-convert');\n",
              "      buttonEl.style.display =\n",
              "        google.colab.kernel.accessAllowed ? 'block' : 'none';\n",
              "\n",
              "      async function convertToInteractive(key) {\n",
              "        const element = document.querySelector('#df-9d423112-a5b0-4e74-832d-f26417bdacb4');\n",
              "        const dataTable =\n",
              "          await google.colab.kernel.invokeFunction('convertToInteractive',\n",
              "                                                    [key], {});\n",
              "        if (!dataTable) return;\n",
              "\n",
              "        const docLinkHtml = 'Like what you see? Visit the ' +\n",
              "          '<a target=\"_blank\" href=https://colab.research.google.com/notebooks/data_table.ipynb>data table notebook</a>'\n",
              "          + ' to learn more about interactive tables.';\n",
              "        element.innerHTML = '';\n",
              "        dataTable['output_type'] = 'display_data';\n",
              "        await google.colab.output.renderOutput(dataTable, element);\n",
              "        const docLink = document.createElement('div');\n",
              "        docLink.innerHTML = docLinkHtml;\n",
              "        element.appendChild(docLink);\n",
              "      }\n",
              "    </script>\n",
              "  </div>\n",
              "\n",
              "\n",
              "<div id=\"df-72bf4c6a-b418-40ec-b9fd-e1e82b0314d6\">\n",
              "  <button class=\"colab-df-quickchart\" onclick=\"quickchart('df-72bf4c6a-b418-40ec-b9fd-e1e82b0314d6')\"\n",
              "            title=\"Suggest charts\"\n",
              "            style=\"display:none;\">\n",
              "\n",
              "<svg xmlns=\"http://www.w3.org/2000/svg\" height=\"24px\"viewBox=\"0 0 24 24\"\n",
              "     width=\"24px\">\n",
              "    <g>\n",
              "        <path d=\"M19 3H5c-1.1 0-2 .9-2 2v14c0 1.1.9 2 2 2h14c1.1 0 2-.9 2-2V5c0-1.1-.9-2-2-2zM9 17H7v-7h2v7zm4 0h-2V7h2v10zm4 0h-2v-4h2v4z\"/>\n",
              "    </g>\n",
              "</svg>\n",
              "  </button>\n",
              "\n",
              "<style>\n",
              "  .colab-df-quickchart {\n",
              "      --bg-color: #E8F0FE;\n",
              "      --fill-color: #1967D2;\n",
              "      --hover-bg-color: #E2EBFA;\n",
              "      --hover-fill-color: #174EA6;\n",
              "      --disabled-fill-color: #AAA;\n",
              "      --disabled-bg-color: #DDD;\n",
              "  }\n",
              "\n",
              "  [theme=dark] .colab-df-quickchart {\n",
              "      --bg-color: #3B4455;\n",
              "      --fill-color: #D2E3FC;\n",
              "      --hover-bg-color: #434B5C;\n",
              "      --hover-fill-color: #FFFFFF;\n",
              "      --disabled-bg-color: #3B4455;\n",
              "      --disabled-fill-color: #666;\n",
              "  }\n",
              "\n",
              "  .colab-df-quickchart {\n",
              "    background-color: var(--bg-color);\n",
              "    border: none;\n",
              "    border-radius: 50%;\n",
              "    cursor: pointer;\n",
              "    display: none;\n",
              "    fill: var(--fill-color);\n",
              "    height: 32px;\n",
              "    padding: 0;\n",
              "    width: 32px;\n",
              "  }\n",
              "\n",
              "  .colab-df-quickchart:hover {\n",
              "    background-color: var(--hover-bg-color);\n",
              "    box-shadow: 0 1px 2px rgba(60, 64, 67, 0.3), 0 1px 3px 1px rgba(60, 64, 67, 0.15);\n",
              "    fill: var(--button-hover-fill-color);\n",
              "  }\n",
              "\n",
              "  .colab-df-quickchart-complete:disabled,\n",
              "  .colab-df-quickchart-complete:disabled:hover {\n",
              "    background-color: var(--disabled-bg-color);\n",
              "    fill: var(--disabled-fill-color);\n",
              "    box-shadow: none;\n",
              "  }\n",
              "\n",
              "  .colab-df-spinner {\n",
              "    border: 2px solid var(--fill-color);\n",
              "    border-color: transparent;\n",
              "    border-bottom-color: var(--fill-color);\n",
              "    animation:\n",
              "      spin 1s steps(1) infinite;\n",
              "  }\n",
              "\n",
              "  @keyframes spin {\n",
              "    0% {\n",
              "      border-color: transparent;\n",
              "      border-bottom-color: var(--fill-color);\n",
              "      border-left-color: var(--fill-color);\n",
              "    }\n",
              "    20% {\n",
              "      border-color: transparent;\n",
              "      border-left-color: var(--fill-color);\n",
              "      border-top-color: var(--fill-color);\n",
              "    }\n",
              "    30% {\n",
              "      border-color: transparent;\n",
              "      border-left-color: var(--fill-color);\n",
              "      border-top-color: var(--fill-color);\n",
              "      border-right-color: var(--fill-color);\n",
              "    }\n",
              "    40% {\n",
              "      border-color: transparent;\n",
              "      border-right-color: var(--fill-color);\n",
              "      border-top-color: var(--fill-color);\n",
              "    }\n",
              "    60% {\n",
              "      border-color: transparent;\n",
              "      border-right-color: var(--fill-color);\n",
              "    }\n",
              "    80% {\n",
              "      border-color: transparent;\n",
              "      border-right-color: var(--fill-color);\n",
              "      border-bottom-color: var(--fill-color);\n",
              "    }\n",
              "    90% {\n",
              "      border-color: transparent;\n",
              "      border-bottom-color: var(--fill-color);\n",
              "    }\n",
              "  }\n",
              "</style>\n",
              "\n",
              "  <script>\n",
              "    async function quickchart(key) {\n",
              "      const quickchartButtonEl =\n",
              "        document.querySelector('#' + key + ' button');\n",
              "      quickchartButtonEl.disabled = true;  // To prevent multiple clicks.\n",
              "      quickchartButtonEl.classList.add('colab-df-spinner');\n",
              "      try {\n",
              "        const charts = await google.colab.kernel.invokeFunction(\n",
              "            'suggestCharts', [key], {});\n",
              "      } catch (error) {\n",
              "        console.error('Error during call to suggestCharts:', error);\n",
              "      }\n",
              "      quickchartButtonEl.classList.remove('colab-df-spinner');\n",
              "      quickchartButtonEl.classList.add('colab-df-quickchart-complete');\n",
              "    }\n",
              "    (() => {\n",
              "      let quickchartButtonEl =\n",
              "        document.querySelector('#df-72bf4c6a-b418-40ec-b9fd-e1e82b0314d6 button');\n",
              "      quickchartButtonEl.style.display =\n",
              "        google.colab.kernel.accessAllowed ? 'block' : 'none';\n",
              "    })();\n",
              "  </script>\n",
              "</div>\n",
              "\n",
              "    </div>\n",
              "  </div>\n"
            ],
            "application/vnd.google.colaboratory.intrinsic+json": {
              "type": "dataframe",
              "summary": "{\n  \"name\": \"df[['total_rooms','median_house_value']]\",\n  \"rows\": 20640,\n  \"fields\": [\n    {\n      \"column\": \"total_rooms\",\n      \"properties\": {\n        \"dtype\": \"number\",\n        \"std\": 2181.615251582795,\n        \"min\": 2.0,\n        \"max\": 39320.0,\n        \"num_unique_values\": 5926,\n        \"samples\": [\n          699.0,\n          1544.0,\n          3966.0\n        ],\n        \"semantic_type\": \"\",\n        \"description\": \"\"\n      }\n    },\n    {\n      \"column\": \"median_house_value\",\n      \"properties\": {\n        \"dtype\": \"number\",\n        \"std\": 115395.61587441387,\n        \"min\": 14999.0,\n        \"max\": 500001.0,\n        \"num_unique_values\": 3842,\n        \"samples\": [\n          194300.0,\n          379000.0,\n          230100.0\n        ],\n        \"semantic_type\": \"\",\n        \"description\": \"\"\n      }\n    }\n  ]\n}"
            }
          },
          "metadata": {},
          "execution_count": 5
        }
      ]
    },
    {
      "cell_type": "markdown",
      "source": [
        "A.1. Generate a dataset that includes districts (rows) with a population above 5000 and a median income greater than $60,000."
      ],
      "metadata": {
        "id": "Aeub7dJOAfLp"
      }
    },
    {
      "cell_type": "code",
      "source": [
        "import pandas as pd\n",
        "import numpy as np\n",
        "import matplotlib.pyplot as plt\n",
        "import pandas as pd\n",
        "import seaborn as sns"
      ],
      "metadata": {
        "id": "0g1N538BZIAO"
      },
      "execution_count": 6,
      "outputs": []
    },
    {
      "cell_type": "code",
      "source": [
        "print(df.columns)\n",
        "\n",
        "\n",
        "df['median_income'] = pd.to_numeric(df['median_income'], errors='coerce')\n",
        "df['population'] = pd.to_numeric(df['population'], errors='coerce')\n",
        "\n",
        "\n",
        "df_filtered = df[(df[\"population\"] > 5000) & (df[\"median_income\"] > 6.0)]\n",
        "\n",
        "\n",
        "print(df_filtered[[\"population\", \"median_income\"]])"
      ],
      "metadata": {
        "id": "hMURHQIDS_vm",
        "colab": {
          "base_uri": "https://localhost:8080/"
        },
        "collapsed": true,
        "outputId": "c7c350e4-1ad6-481b-d7f0-aaec97de5231"
      },
      "execution_count": 14,
      "outputs": [
        {
          "output_type": "stream",
          "name": "stdout",
          "text": [
            "Index(['longitude', 'latitude', 'housing_median_age', 'total_rooms',\n",
            "       'total_bedrooms', 'population', 'households', 'median_income',\n",
            "       'median_house_value', 'ocean_proximity'],\n",
            "      dtype='object')\n",
            "       population  median_income\n",
            "570        7427.0         7.6110\n",
            "576        5781.0         7.2634\n",
            "867        5019.0         6.5615\n",
            "869        6075.0         6.1047\n",
            "871        7205.0         6.0824\n",
            "922       12203.0         8.4045\n",
            "1560       5613.0         6.3942\n",
            "1700       7266.0         6.0666\n",
            "1930       5001.0         6.3140\n",
            "5724       5459.0         8.1657\n",
            "5921       7665.0         7.9068\n",
            "5924       7249.0         7.4837\n",
            "5964       7775.0         7.7876\n",
            "6055       8686.0         6.3875\n",
            "6057      15507.0         6.0191\n",
            "6061       9427.0         6.4266\n",
            "6063       8380.0         6.2734\n",
            "6065       9671.0         7.0329\n",
            "6066      15037.0         6.6288\n",
            "6328       8907.0         6.1552\n",
            "7907       5026.0         6.3093\n",
            "8804       6897.0         8.2831\n",
            "9004       5452.0         9.1232\n",
            "9013       6214.0         9.1228\n",
            "9019      12873.0         8.0137\n",
            "9027       5175.0         7.7848\n",
            "9154       7270.0         6.1281\n",
            "9167       7087.0         6.3277\n",
            "10309     16122.0         7.4947\n",
            "10539      6223.0         6.3088\n",
            "12077      5964.0         6.2308\n",
            "13034      6675.0         6.1359\n",
            "13176     10450.0         6.1287\n",
            "13378      5669.0         6.5138\n",
            "13715      6080.0         6.2178\n",
            "14553      8980.0         6.3237\n",
            "14558      7301.0         6.3570\n",
            "15183      5613.0         7.2731\n",
            "15203      6600.0         6.0857\n",
            "17845      6810.0         6.4419\n",
            "18926      8276.0         6.4232\n",
            "19006      7460.0        10.2264\n",
            "20424      6187.0         6.6122\n",
            "20427      5495.0         8.6499\n",
            "20440      6700.0         6.4963\n",
            "20451     11956.0         6.9712\n"
          ]
        }
      ]
    },
    {
      "cell_type": "markdown",
      "source": [
        "A.2. Create a dataset that includes districts (rows) for districts with a housing median age below 20 and an average rooms count greater than 5."
      ],
      "metadata": {
        "id": "cVcwmumxXuTE"
      }
    },
    {
      "cell_type": "code",
      "source": [
        "\n",
        "\n",
        "\n",
        "df['housing_median_age'] = pd.to_numeric(df['housing_median_age'], errors='coerce')\n",
        "df['total_rooms'] = pd.to_numeric(df['total_rooms'], errors='coerce')\n",
        "\n",
        "df['avgRooms'] = df['total_rooms'] / df['households']\n",
        "df_filtered = df[(df[\"avgRooms\"] > 5) & (df[\"housing_median_age\"] < 20)]\n",
        "\n",
        "\n",
        "print(df_filtered[[\"avgRooms\", \"housing_median_age\"]])\n"
      ],
      "metadata": {
        "colab": {
          "base_uri": "https://localhost:8080/"
        },
        "collapsed": true,
        "id": "o8o0GKYARovs",
        "outputId": "262c7ab7-3891-40e4-d5bf-51a9b01e1280"
      },
      "execution_count": 18,
      "outputs": [
        {
          "output_type": "stream",
          "name": "stdout",
          "text": [
            "       avgRooms  housing_median_age\n",
            "77     5.830918                19.0\n",
            "131    8.335052                18.0\n",
            "437    5.030000                10.0\n",
            "570    6.855776                 5.0\n",
            "576    7.133034                12.0\n",
            "...         ...                 ...\n",
            "20632  6.023377                15.0\n",
            "20636  6.114035                18.0\n",
            "20637  5.205543                17.0\n",
            "20638  5.329513                18.0\n",
            "20639  5.254717                16.0\n",
            "\n",
            "[4088 rows x 2 columns]\n"
          ]
        }
      ]
    },
    {
      "cell_type": "markdown",
      "source": [
        "A.3. How many rows have a median house value greater than $500,000?"
      ],
      "metadata": {
        "id": "A8D1PIbMYsAZ"
      }
    },
    {
      "cell_type": "code",
      "source": [
        "rows=df[df['median_house_value'] > 5.0]\n",
        "# Count the number of rows that meet the condition\n",
        "num_high_value_houses = rows.shape[0]\n",
        "\n",
        "# Print the number of rows\n",
        "print(f'Number of rows : {num_high_value_houses}')\n",
        "\n",
        "\n"
      ],
      "metadata": {
        "id": "NIWsTZQTTBSW",
        "colab": {
          "base_uri": "https://localhost:8080/"
        },
        "outputId": "c8727095-a417-43e1-b11c-39de3324ed24"
      },
      "execution_count": 22,
      "outputs": [
        {
          "output_type": "stream",
          "name": "stdout",
          "text": [
            "Number of rows : 20640\n"
          ]
        }
      ]
    },
    {
      "cell_type": "markdown",
      "source": [
        "A.4. What is the average population of districts (rows) where the median income is above $70,000?"
      ],
      "metadata": {
        "id": "WVYxIsUYYtgR"
      }
    },
    {
      "cell_type": "code",
      "source": [
        "df['median_income'] = pd.to_numeric(df['median_income'], errors='coerce')\n",
        "\n",
        "\n",
        "highIncome = df[df['median_income'] > 7.0]\n",
        "\n",
        "\n",
        "average_population = highIncome['population'].mean()\n",
        "\n",
        "print(f'Average population: {average_population}')"
      ],
      "metadata": {
        "colab": {
          "base_uri": "https://localhost:8080/"
        },
        "id": "u25UuhMEXQoM",
        "outputId": "ea4344a9-0e29-41d9-c88c-dbd0b8733673"
      },
      "execution_count": 24,
      "outputs": [
        {
          "output_type": "stream",
          "name": "stdout",
          "text": [
            "Average population: 1292.0391993327773\n"
          ]
        }
      ]
    },
    {
      "cell_type": "markdown",
      "source": [
        "A.5. What is the average number of bedrooms in districts with a median income between \\$40,000 and \\$60,000?"
      ],
      "metadata": {
        "id": "AUmXKXwBY8Gh"
      }
    },
    {
      "cell_type": "code",
      "source": [
        "df['median_income'] = pd.to_numeric(df['median_income'], errors='coerce')\n",
        "df['total_bedrooms'] = pd.to_numeric(df['total_bedrooms'], errors='coerce')\n",
        "\n",
        "highIncome = df[(df['median_income'] >= 4.0) & (df['median_income'] <= 6.0)]\n",
        "\n",
        "\n",
        "averageNoOfBedroom= highIncome['total_bedrooms'].mean()\n",
        "\n",
        "print(f'Average Number of bedroom: {averageNoOfBedroom}')\n",
        "\n"
      ],
      "metadata": {
        "id": "MXu1zKFgZc3m",
        "colab": {
          "base_uri": "https://localhost:8080/"
        },
        "outputId": "33fc4bbe-b54f-4ab6-fd94-b49e691f1379"
      },
      "execution_count": 25,
      "outputs": [
        {
          "output_type": "stream",
          "name": "stdout",
          "text": [
            "Average Number of bedroom: 551.0693155960091\n"
          ]
        }
      ]
    },
    {
      "cell_type": "markdown",
      "source": [
        "A.6. How many rows have a housing median age of less than 25 years and a median house value greater than $300,000?"
      ],
      "metadata": {
        "id": "CvMOs0TjZfcl"
      }
    },
    {
      "cell_type": "code",
      "source": [
        "df['housing_median_age'] = pd.to_numeric(df['housing_median_age'], errors='coerce')\n",
        "df['median_house_value'] = pd.to_numeric(df['median_house_value'], errors='coerce')\n",
        "\n",
        "# Filter the dataset: housingMedianAge < 25 and medianHouseValue > 300000\n",
        "filtered_df = df[(df['housing_median_age'] < 25) & (df['median_house_value'] > 300000)]\n",
        "\n",
        "# Count the number of rows that meet the conditions\n",
        "num_rows = filtered_df.shape[0]\n",
        "\n",
        "# Print the number of rows\n",
        "num_rows"
      ],
      "metadata": {
        "colab": {
          "base_uri": "https://localhost:8080/"
        },
        "id": "_wYWHyqKahJy",
        "outputId": "97db76e4-fab3-49e3-9a92-af4dc3af051a"
      },
      "execution_count": 27,
      "outputs": [
        {
          "output_type": "execute_result",
          "data": {
            "text/plain": [
              "1207"
            ]
          },
          "metadata": {},
          "execution_count": 27
        }
      ]
    },
    {
      "cell_type": "markdown",
      "source": [
        "A.7. Among rows with a median income above $60,000, which district has the highest average rooms count and lowest median house value?"
      ],
      "metadata": {
        "id": "DFN2LZ69YFRU"
      }
    },
    {
      "cell_type": "code",
      "source": [
        "df['median_income'] = pd.to_numeric(df['median_income'], errors='coerce')\n",
        "df['total_rooms'] = pd.to_numeric(df['total_rooms'], errors='coerce')\n",
        "df['households'] = pd.to_numeric(df['households'], errors='coerce')\n",
        "df['median_house_value'] = pd.to_numeric(df['median_house_value'], errors='coerce')\n",
        "\n",
        "districts = df[df['median_income'] > 6.0]\n",
        "\n",
        "districts['avgRooms'] = districts['total_rooms'] / districts['households']\n",
        "\n",
        "max_avg_rooms = districts['avgRooms'].max()\n",
        "district_max_avg_rooms = districts[districts['avgRooms'] == max_avg_rooms]\n",
        "\n",
        "\n",
        "min_median_house_value = district_max_avg_rooms['median_house_value'].min()\n",
        "result_district = district_max_avg_rooms[district_max_avg_rooms['median_house_value'] == min_median_house_value]\n",
        "\n",
        "# Display the result\n",
        "print(\"District with the highest average rooms count and lowest median house value among those with a median income above $60,000:\")\n",
        "print(result_district)"
      ],
      "metadata": {
        "id": "jEV9fwK3bx2X",
        "colab": {
          "base_uri": "https://localhost:8080/"
        },
        "collapsed": true,
        "outputId": "0e39819b-8317-4293-d652-368d191fc102"
      },
      "execution_count": 29,
      "outputs": [
        {
          "output_type": "stream",
          "name": "stdout",
          "text": [
            "District with the highest average rooms count and lowest median house value among those with a median income above $60,000:\n",
            "       longitude  latitude  housing_median_age  total_rooms  total_bedrooms  \\\n",
            "12430    -116.26     33.65                 3.0       7437.0          1222.0   \n",
            "\n",
            "       population  households  median_income  median_house_value  \\\n",
            "12430       574.0       302.0        10.2948            382400.0   \n",
            "\n",
            "      ocean_proximity   avgRooms  \n",
            "12430          INLAND  24.625828  \n"
          ]
        },
        {
          "output_type": "stream",
          "name": "stderr",
          "text": [
            "<ipython-input-29-cb30313430d5>:8: SettingWithCopyWarning: \n",
            "A value is trying to be set on a copy of a slice from a DataFrame.\n",
            "Try using .loc[row_indexer,col_indexer] = value instead\n",
            "\n",
            "See the caveats in the documentation: https://pandas.pydata.org/pandas-docs/stable/user_guide/indexing.html#returning-a-view-versus-a-copy\n",
            "  districts['avgRooms'] = districts['total_rooms'] / districts['households']\n"
          ]
        }
      ]
    },
    {
      "cell_type": "markdown",
      "source": [
        "A.8. How many rows have a median income that falls within the 75th percentile of all districts and also have a housing median age greater than the median age of all districts?"
      ],
      "metadata": {
        "id": "Db-xYQNCYj1s"
      }
    },
    {
      "cell_type": "code",
      "source": [
        "df['median_income'] = pd.to_numeric(df['median_income'], errors='coerce')\n",
        "df['housing_median_age'] = pd.to_numeric(df['housing_median_age'], errors='coerce')\n",
        "\n",
        "Percentile = df['median_income'].quantile(0.75)\n",
        "\n",
        "housingAge = df['housing_median_age'].median()\n",
        "\n",
        "filtered_df = df[(df['median_income'] >= Percentile) & (df['housing_median_age'] > housingAge)]\n",
        "\n",
        "num_rows = filtered_df.shape[0]\n",
        "\n",
        "\n",
        "print(f'Number of rows: {num_rows}')"
      ],
      "metadata": {
        "colab": {
          "base_uri": "https://localhost:8080/"
        },
        "id": "I__mOacgejpJ",
        "outputId": "beafcab2-58f9-4986-af09-394677eaacf5"
      },
      "execution_count": 34,
      "outputs": [
        {
          "output_type": "stream",
          "name": "stdout",
          "text": [
            "Number of rows: 1993\n"
          ]
        }
      ]
    },
    {
      "cell_type": "markdown",
      "source": [
        "A.9.  What is the average median house value for districts (rows) where the average distance to the five nearest jobs is above 5 kilometers and the median income is below $50,000?"
      ],
      "metadata": {
        "id": "7srHNm1uZtvy"
      }
    },
    {
      "cell_type": "code",
      "source": [
        "df['latitude'] = pd.to_numeric(df['latitude'], errors='coerce')\n",
        "df['median_income'] = pd.to_numeric(df['median_income'], errors='coerce')\n",
        "df['median_house_value'] = pd.to_numeric(df['median_house_value'], errors='coerce')\n",
        "\n",
        "\n",
        "x = df[(df['latitude'] >5) & (df['median_income'] <5.0)]\n",
        "average_median_house_value = filtered_df['median_house_value'].mean()\n",
        "print(f'Average median house value : {average_median_house_value}')"
      ],
      "metadata": {
        "id": "Tp4W2kzigeOY",
        "colab": {
          "base_uri": "https://localhost:8080/"
        },
        "outputId": "dcac8343-6050-49d8-d471-5a4dcec19c75"
      },
      "execution_count": 43,
      "outputs": [
        {
          "output_type": "stream",
          "name": "stdout",
          "text": [
            "Average median house value : 353936.7185148018\n"
          ]
        }
      ]
    },
    {
      "cell_type": "markdown",
      "source": [
        "A.10. What is the median house value for districts (rows) that have a low population density (population divided by total rooms) and are located near jobs (within 5 kilometers of the five nearest jobs)?"
      ],
      "metadata": {
        "id": "K0wMLztsZwAK"
      }
    },
    {
      "cell_type": "code",
      "source": [
        "df['latitude'] = pd.to_numeric(df['latitude'], errors='coerce')\n",
        "df['median_income'] = pd.to_numeric(df['median_income'], errors='coerce')\n",
        "df['median_house_value'] = pd.to_numeric(df['median_house_value'], errors='coerce')\n",
        "df['total_rooms'] = pd.to_numeric(df['total_rooms'], errors='coerce')\n",
        "df['population'] = pd.to_numeric(df['population'], errors='coerce')\n",
        "\n",
        "df['populationDensity'] = df['population'] / df['total_rooms']\n",
        "\n",
        "filtered_df = df[(df['populationDensity'] < 0.1) & (df['latitude'] < 5)]\n",
        "\n",
        "median_house_value = filtered_df['median_house_value'].median()\n",
        "\n",
        "print(f\"Median house value: {median_house_value}\")"
      ],
      "metadata": {
        "colab": {
          "base_uri": "https://localhost:8080/"
        },
        "id": "TObnTHJEjhBa",
        "outputId": "bddb6f45-f856-4067-8877-1a65addf307a"
      },
      "execution_count": 47,
      "outputs": [
        {
          "output_type": "stream",
          "name": "stdout",
          "text": [
            "Median house value: nan\n"
          ]
        }
      ]
    },
    {
      "cell_type": "markdown",
      "source": [
        "**Task B. Data Visulation** (15 Points)"
      ],
      "metadata": {
        "id": "sMcuvuC7trLr"
      }
    },
    {
      "cell_type": "markdown",
      "source": [
        "B.1. Use a suitable visualization method to show that the distribution of median house values vary across different housing median ages."
      ],
      "metadata": {
        "id": "Bu69qY6XtvOx"
      }
    },
    {
      "cell_type": "code",
      "source": [
        "import seaborn as sns\n",
        "import matplotlib.pyplot as plt\n",
        "\n",
        "plt.scatter(df['median_house_value'], df['housing_median_age'], color='b')\n",
        "\n",
        "# Add labels and title\n",
        "plt.xlabel('median_house_value')\n",
        "plt.ylabel('housing_median_age')\n",
        "plt.title('Scatter Plot of Median House Values vs. Proportion of Housing Median Ages')\n",
        "\n",
        "# Show the plot\n",
        "plt.show()\n",
        "\n"
      ],
      "metadata": {
        "id": "7Yz-mrZucuMY",
        "colab": {
          "base_uri": "https://localhost:8080/",
          "height": 472
        },
        "outputId": "db4bd3e5-9037-4997-d0f7-9d922c6aba60"
      },
      "execution_count": 44,
      "outputs": [
        {
          "output_type": "display_data",
          "data": {
            "text/plain": [
              "<Figure size 640x480 with 1 Axes>"
            ],
            "image/png": "[encoded data removed]"
          },
          "metadata": {}
        }
      ]
    },
    {
      "cell_type": "markdown",
      "source": [
        "B.2. How does the correlation between median income and median house values change as the housing median age increases?\n",
        "\n",
        "*Hints:* Calculate the correlation coefficient between median income and median house values for different housing median age categories (e.g., bins of 5 years) and then plot using suitable visualization method."
      ],
      "metadata": {
        "id": "-XBTmxgEt1B5"
      }
    },
    {
      "cell_type": "code",
      "source": [
        "age_bins = [0, 5, 10, 15, 20, 25, 30, 35, 40, 45, 50, 55, 60]\n",
        "\n",
        "# Create a new column to categorize housing median age\n",
        "df['age_category'] = pd.cut(df['housing_median_age'], bins=age_bins)\n",
        "\n",
        "correlation_data = df.groupby('age_category').apply(lambda x: x['median_income'].corr(x['median_house_value'])).reset_index(name='correlation')\n",
        "\n",
        "# Plot the correlation coefficients against housing median age categories\n",
        "plt.figure(figsize=(10, 6))\n",
        "sns.barplot(x='age_category', y='correlation', data=correlation_data)\n",
        "plt.title('Correlation Between Median Income and Median House Value by Housing Median Age')\n",
        "plt.xlabel('Housing Median Age (years)')\n",
        "plt.ylabel('Correlation Coefficient')\n",
        "plt.xticks(rotation=45, ha='right')\n",
        "plt.tight_layout()\n",
        "plt.show()"
      ],
      "metadata": {
        "colab": {
          "base_uri": "https://localhost:8080/",
          "height": 607
        },
        "id": "R8lW8bVslKXl",
        "outputId": "fbdbdc70-7926-4799-c1a3-8a6d87e37839"
      },
      "execution_count": 48,
      "outputs": [
        {
          "output_type": "display_data",
          "data": {
            "text/plain": [
              "<Figure size 1000x600 with 1 Axes>"
            ],
            "image/png": "[encoded data removed]"
          },
          "metadata": {}
        }
      ]
    },
    {
      "cell_type": "markdown",
      "source": [
        "**Task C. Hypothesis Testing** (15 Points)"
      ],
      "metadata": {
        "id": "rZ6komYhaDUq"
      }
    },
    {
      "cell_type": "markdown",
      "source": [
        "C.1.  Is there a statistically significant difference in median house values among districts with different types of ocean proximity (near bay, near ocean, etc.)?\n",
        "\n",
        "*Hints*\n",
        "\n",
        "Hypothesis Test: ANOVA Test\n",
        "\n",
        "**Group the districts based on their ocean proximity types (e.g., 'NEAR BAY', 'NEAR OCEAN', 'INLAND', 'ISLAND').\n",
        "Perform an ANOVA test to determine if there is a statistically significant difference in median house values among these groups.**"
      ],
      "metadata": {
        "id": "rZsESr-RaGbK"
      }
    },
    {
      "cell_type": "code",
      "source": [
        "from scipy.stats import f_oneway\n",
        "\n",
        "# Load the dataset (assuming it's a CSV file named 'housing.csv')\n",
        "df = pd.read_csv('housing.csv')\n",
        "\n",
        "# Group the districts based on their ocean proximity types\n",
        "ocean_proximity_groups = df.groupby('ocean_proximity')['median_house_value'].apply(list)\n",
        "\n",
        "# Perform ANOVA test\n",
        "f_statistic, p_value = f_oneway(*ocean_proximity_groups)\n",
        "\n",
        "# Print the results\n",
        "print(f'ANOVA Test Results:')\n",
        "print(f'F-Statistic: {f_statistic}')\n",
        "print(f'p-value: {p_value}')\n",
        "\n",
        "# Interpret the results\n",
        "alpha = 0.05  # significance level\n",
        "if p_value < alpha:\n",
        "    print('We can reject the null hypothesis')\n",
        "else:\n",
        "    print('We can accept the null hypothesis')"
      ],
      "metadata": {
        "colab": {
          "base_uri": "https://localhost:8080/"
        },
        "id": "P5TH_pP6mdwf",
        "outputId": "521a7fc8-66f1-4d58-ccbf-982bc2cc6432"
      },
      "execution_count": 51,
      "outputs": [
        {
          "output_type": "stream",
          "name": "stdout",
          "text": [
            "ANOVA Test Results:\n",
            "F-Statistic: 1612.1407358838217\n",
            "p-value: 0.0\n",
            "We can reject the null hypothesis\n"
          ]
        }
      ]
    },
    {
      "cell_type": "code",
      "source": [],
      "metadata": {
        "id": "vino4COUn2C8"
      },
      "execution_count": null,
      "outputs": []
    },
    {
      "cell_type": "markdown",
      "source": [
        "**Task D. Linear Regression Model** (20 Points)"
      ],
      "metadata": {
        "id": "qm51XLkqa1sb"
      }
    },
    {
      "cell_type": "markdown",
      "source": [
        "D.1. Can you build a linear regression model to predict median house values based on the median income, housing median age, and average number of rooms in a district?\n",
        "Linear Regression Task: Multiple Linear Regression\n",
        "\n",
        "Predictor Variable: median income (X1), housing median age (X2), and average number of rooms (X3)\n",
        "\n",
        "Response Variable: Median house values (Y)\n",
        "\n",
        "**Task: Build a multiple linear regression model Y = a + b1X1 + b2X2 + b3X3  from scratch. Show the value of the weights.**"
      ],
      "metadata": {
        "id": "JFbTS0gha_W6"
      }
    },
    {
      "cell_type": "code",
      "source": [
        "\n",
        "X1 = df['median_income'].values\n",
        "X2 = df['housing_median_age'].values\n",
        "X3 = df['total_rooms'].values\n",
        "Y = df['median_house_value'].values\n",
        "\n",
        "# Compute the means\n",
        "X1_mean = np.mean(X1)\n",
        "X2_mean = np.mean(X2)\n",
        "X3_mean = np.mean(X3)\n",
        "Y_mean = np.mean(Y)\n",
        "\n",
        "# Compute the coefficients using OLS method\n",
        "b1 = np.sum((X1 - X1_mean) * (Y - Y_mean)) / np.sum((X1 - X1_mean) ** 2)\n",
        "b2 = np.sum((X2 - X2_mean) * (Y - Y_mean)) / np.sum((X2 - X2_mean) ** 2)\n",
        "b3 = np.sum((X3 - X3_mean) * (Y - Y_mean)) / np.sum((X3 - X3_mean) ** 2)\n",
        "a = Y_mean - b1 * X1_mean - b2 * X2_mean - b3 * X3_mean\n",
        "\n",
        "# Show the value of the weights\n",
        "print(f'Intercept (a): {a}')\n",
        "print(f'Coefficient for median income (b1): {b1}')\n",
        "print(f'Coefficient for housing median age (b2): {b2}')\n",
        "print(f'Coefficient for average number of rooms (b3): {b3}')\n"
      ],
      "metadata": {
        "id": "hmSKGbkBccCX",
        "colab": {
          "base_uri": "https://localhost:8080/"
        },
        "outputId": "b75bcac8-49b9-4eef-d58b-9547303c404c"
      },
      "execution_count": 52,
      "outputs": [
        {
          "output_type": "stream",
          "name": "stdout",
          "text": [
            "Intercept (a): -1353.6251831560476\n",
            "Coefficient for median income (b1): 41793.84920189626\n",
            "Coefficient for housing median age (b2): 968.4496397427555\n",
            "Coefficient for average number of rooms (b3): 7.095972205890664\n"
          ]
        }
      ]
    }
  ]
}