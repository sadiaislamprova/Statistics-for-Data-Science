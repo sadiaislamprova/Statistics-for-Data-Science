{
  "nbformat": 4,
  "nbformat_minor": 0,
  "metadata": {
    "colab": {
      "provenance": []
    },
    "kernelspec": {
      "name": "python3",
      "display_name": "Python 3"
    },
    "language_info": {
      "name": "python"
    }
  },
  "cells": [
    {
      "cell_type": "code",
      "execution_count": null,
      "metadata": {
        "colab": {
          "base_uri": "https://localhost:8080/"
        },
        "id": "7TAqgeoWRvfX",
        "outputId": "894f4b24-ff4a-4846-e3a1-38448d53c4e4"
      },
      "outputs": [
        {
          "output_type": "stream",
          "name": "stdout",
          "text": [
            "90\n"
          ]
        }
      ],
      "source": [
        "import random\n",
        "a=random.randint(1,100)\n",
        "print(a)"
      ]
    },
    {
      "cell_type": "code",
      "source": [
        "randomList=[]\n",
        "for i in range(10):\n",
        "  a=random.randint(1,100)\n",
        "  randomList.append(a)\n",
        "\n",
        "print(randomList)"
      ],
      "metadata": {
        "colab": {
          "base_uri": "https://localhost:8080/"
        },
        "id": "ick0OvVCSEoA",
        "outputId": "50042312-615a-4b82-bf05-9780ba7c136b"
      },
      "execution_count": null,
      "outputs": [
        {
          "output_type": "stream",
          "name": "stdout",
          "text": [
            "[33, 17, 70, 68, 38, 39, 76, 53, 100, 20]\n"
          ]
        }
      ]
    },
    {
      "cell_type": "code",
      "source": [
        "def my_name():\n",
        "   print(\"Name: prova\")"
      ],
      "metadata": {
        "id": "CSuMWkACS5ca"
      },
      "execution_count": null,
      "outputs": []
    },
    {
      "cell_type": "code",
      "source": [
        "def mymean_prova(randomList):\n",
        "  total=sum(randomList)\n",
        "  mean=total/len(randomList)\n",
        "\n",
        "  return mean"
      ],
      "metadata": {
        "id": "2yyqk7xUTPhP"
      },
      "execution_count": null,
      "outputs": []
    },
    {
      "cell_type": "code",
      "source": [
        "def myvariance_prova(randomList):\n",
        "    mean=mymean_prova(randomList)\n",
        "    squared_diff =[(x - mean) ** 2 for x in randomList]\n",
        "    variance = sum(squared_diff) / len(randomList)\n",
        "    return variance\n",
        "\n",
        ""
      ],
      "metadata": {
        "id": "frodrpzdUGgu"
      },
      "execution_count": null,
      "outputs": []
    },
    {
      "cell_type": "code",
      "source": [
        "import math\n",
        "\n",
        "def mystddev_prova(randomList):\n",
        "  variance=myvariance_prova(randomList)\n",
        "  std_deviation=math.sqrt(variance)\n",
        "\n",
        "  return std_deviation"
      ],
      "metadata": {
        "id": "pyTyAJC9XkG2"
      },
      "execution_count": null,
      "outputs": []
    },
    {
      "cell_type": "code",
      "source": [
        "mean= mymean_prova(randomList)\n",
        "variance= myvariance_prova(randomList)\n",
        "std_deviation= mystddev_prova(randomList)\n",
        "\n",
        "my_name()\n",
        "print(\"Mean:\",mean)\n",
        "print(\"variance:\",variance)\n",
        "print(\"Standard Deviation:\",std_deviation)\n",
        "\n"
      ],
      "metadata": {
        "colab": {
          "base_uri": "https://localhost:8080/"
        },
        "id": "A0ffUIWkYfjI",
        "outputId": "e6ede43c-8a0c-4698-eb89-21a6b19d0a07"
      },
      "execution_count": null,
      "outputs": [
        {
          "output_type": "stream",
          "name": "stdout",
          "text": [
            "Name: prova\n",
            "Mean: 51.4\n",
            "variance: 643.24\n",
            "Standard Deviation: 25.362176562747923\n"
          ]
        }
      ]
    },
    {
      "cell_type": "code",
      "source": [],
      "metadata": {
        "id": "UA06acR4XYUS"
      },
      "execution_count": null,
      "outputs": []
    },
    {
      "cell_type": "code",
      "source": [
        "import matplotlib.pyplot as plt\n",
        "\n",
        "x=[]\n",
        "for i in range(len(randomList)):\n",
        "  x.append(i+1)\n",
        "\n",
        "print(x)"
      ],
      "metadata": {
        "colab": {
          "base_uri": "https://localhost:8080/"
        },
        "id": "zopGkiI8Zqme",
        "outputId": "3a2fc5ff-0792-4902-f012-2f78b7e95d45"
      },
      "execution_count": null,
      "outputs": [
        {
          "output_type": "stream",
          "name": "stdout",
          "text": [
            "[1, 2, 3, 4, 5, 6, 7, 8, 9, 10]\n"
          ]
        }
      ]
    },
    {
      "cell_type": "code",
      "source": [
        "plt.plot(x, randomList, \"g*\")\n",
        "plt.hlines(mean,1,10)\n",
        "plt.show()"
      ],
      "metadata": {
        "colab": {
          "base_uri": "https://localhost:8080/",
          "height": 430
        },
        "id": "9oeP6zD8aLix",
        "outputId": "a9dbc8d4-2645-4c56-a304-e09a48a3912a"
      },
      "execution_count": null,
      "outputs": [
        {
          "output_type": "display_data",
          "data": {
            "text/plain": [
              "<Figure size 640x480 with 1 Axes>"
            ],
            "image/png": "[encoded data removed]"
          },
          "metadata": {}
        }
      ]
    }
  ]
}